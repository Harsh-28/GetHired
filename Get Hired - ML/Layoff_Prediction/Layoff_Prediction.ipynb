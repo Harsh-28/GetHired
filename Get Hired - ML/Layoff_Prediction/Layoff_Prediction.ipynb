{
  "cells": [
    {
      "cell_type": "code",
      "execution_count": 89,
      "metadata": {
        "id": "XG2sIr2o67EQ"
      },
      "outputs": [],
      "source": [
        "import numpy as np\n",
        "import pandas as pd\n",
        "import matplotlib.pyplot as plt\n",
        "import seaborn as sns"
      ]
    },
    {
      "cell_type": "code",
      "execution_count": 90,
      "metadata": {
        "id": "pZgitQ4s7GdB"
      },
      "outputs": [],
      "source": [
        "df = pd.read_csv('data.csv')"
      ]
    },
    {
      "cell_type": "code",
      "execution_count": 91,
      "metadata": {
        "colab": {
          "base_uri": "https://localhost:8080/",
          "height": 736
        },
        "id": "1K0_oDOM7ObS",
        "outputId": "1e32662d-e53a-421a-ae7e-739321345c04"
      },
      "outputs": [
        {
          "data": {
            "text/html": [
              "<div>\n",
              "<style scoped>\n",
              "    .dataframe tbody tr th:only-of-type {\n",
              "        vertical-align: middle;\n",
              "    }\n",
              "\n",
              "    .dataframe tbody tr th {\n",
              "        vertical-align: top;\n",
              "    }\n",
              "\n",
              "    .dataframe thead th {\n",
              "        text-align: right;\n",
              "    }\n",
              "</style>\n",
              "<table border=\"1\" class=\"dataframe\">\n",
              "  <thead>\n",
              "    <tr style=\"text-align: right;\">\n",
              "      <th></th>\n",
              "      <th>Employee ID</th>\n",
              "      <th>Department</th>\n",
              "      <th>Job Title</th>\n",
              "      <th>Years of Experience</th>\n",
              "      <th>Age Range</th>\n",
              "      <th>Location</th>\n",
              "      <th>Laid Off</th>\n",
              "      <th>Layoff Date</th>\n",
              "      <th>Layoff Reason</th>\n",
              "      <th>Severance Package</th>\n",
              "      <th>Promotion</th>\n",
              "      <th>Transfer</th>\n",
              "    </tr>\n",
              "  </thead>\n",
              "  <tbody>\n",
              "    <tr>\n",
              "      <th>0</th>\n",
              "      <td>EMP_0001</td>\n",
              "      <td>Engineering</td>\n",
              "      <td>Software Engineer</td>\n",
              "      <td>5</td>\n",
              "      <td>20-29</td>\n",
              "      <td>San Francisco Bay Area</td>\n",
              "      <td>No</td>\n",
              "      <td>NaN</td>\n",
              "      <td>Promotion</td>\n",
              "      <td>Yes</td>\n",
              "      <td>NaN</td>\n",
              "      <td>NaN</td>\n",
              "    </tr>\n",
              "    <tr>\n",
              "      <th>1</th>\n",
              "      <td>EMP_0002</td>\n",
              "      <td>Marketing</td>\n",
              "      <td>Marketing Manager</td>\n",
              "      <td>10</td>\n",
              "      <td>30-39</td>\n",
              "      <td>New York City</td>\n",
              "      <td>No</td>\n",
              "      <td>NaN</td>\n",
              "      <td>Promotion</td>\n",
              "      <td>No</td>\n",
              "      <td>NaN</td>\n",
              "      <td>NaN</td>\n",
              "    </tr>\n",
              "    <tr>\n",
              "      <th>2</th>\n",
              "      <td>EMP_0003</td>\n",
              "      <td>Sales</td>\n",
              "      <td>Sales Associate</td>\n",
              "      <td>2</td>\n",
              "      <td>20-29</td>\n",
              "      <td>London</td>\n",
              "      <td>No</td>\n",
              "      <td>NaN</td>\n",
              "      <td>No</td>\n",
              "      <td>No</td>\n",
              "      <td>NaN</td>\n",
              "      <td>NaN</td>\n",
              "    </tr>\n",
              "    <tr>\n",
              "      <th>3</th>\n",
              "      <td>EMP_0004</td>\n",
              "      <td>IT</td>\n",
              "      <td>Network Administrator</td>\n",
              "      <td>15</td>\n",
              "      <td>40-49</td>\n",
              "      <td>Remote</td>\n",
              "      <td>Yes</td>\n",
              "      <td>2024</td>\n",
              "      <td>Restructuring</td>\n",
              "      <td>Yes</td>\n",
              "      <td>NaN</td>\n",
              "      <td>NaN</td>\n",
              "    </tr>\n",
              "    <tr>\n",
              "      <th>4</th>\n",
              "      <td>EMP_0005</td>\n",
              "      <td>Engineering</td>\n",
              "      <td>Data Scientist</td>\n",
              "      <td>8</td>\n",
              "      <td>30-39</td>\n",
              "      <td>San Francisco Bay Area</td>\n",
              "      <td>No</td>\n",
              "      <td>NaN</td>\n",
              "      <td>No</td>\n",
              "      <td>No</td>\n",
              "      <td>NaN</td>\n",
              "      <td>NaN</td>\n",
              "    </tr>\n",
              "    <tr>\n",
              "      <th>...</th>\n",
              "      <td>...</td>\n",
              "      <td>...</td>\n",
              "      <td>...</td>\n",
              "      <td>...</td>\n",
              "      <td>...</td>\n",
              "      <td>...</td>\n",
              "      <td>...</td>\n",
              "      <td>...</td>\n",
              "      <td>...</td>\n",
              "      <td>...</td>\n",
              "      <td>...</td>\n",
              "      <td>...</td>\n",
              "    </tr>\n",
              "    <tr>\n",
              "      <th>180</th>\n",
              "      <td>EMP_5683</td>\n",
              "      <td>Marketing</td>\n",
              "      <td>Public Relations Specialist</td>\n",
              "      <td>4</td>\n",
              "      <td>20-29</td>\n",
              "      <td>New York City</td>\n",
              "      <td>False</td>\n",
              "      <td>None</td>\n",
              "      <td>None</td>\n",
              "      <td>None</td>\n",
              "      <td>True</td>\n",
              "      <td>Marketing Manager (EMP_1907)</td>\n",
              "    </tr>\n",
              "    <tr>\n",
              "      <th>181</th>\n",
              "      <td>EMP_0314</td>\n",
              "      <td>Sales</td>\n",
              "      <td>Business Development Representative</td>\n",
              "      <td>2</td>\n",
              "      <td>20-29</td>\n",
              "      <td>London</td>\n",
              "      <td>False</td>\n",
              "      <td>None</td>\n",
              "      <td>None</td>\n",
              "      <td>None</td>\n",
              "      <td>False</td>\n",
              "      <td>Promotion to Account Executive (Next Role)</td>\n",
              "    </tr>\n",
              "    <tr>\n",
              "      <th>182</th>\n",
              "      <td>EMP_7951</td>\n",
              "      <td>Engineering</td>\n",
              "      <td>Backend Engineer</td>\n",
              "      <td>1</td>\n",
              "      <td>20-29</td>\n",
              "      <td>San Francisco Bay Area</td>\n",
              "      <td>False</td>\n",
              "      <td>None</td>\n",
              "      <td>None</td>\n",
              "      <td>None</td>\n",
              "      <td>False</td>\n",
              "      <td>Promotion to Full Stack Developer (Next Role)</td>\n",
              "    </tr>\n",
              "    <tr>\n",
              "      <th>183</th>\n",
              "      <td>EMP_2228</td>\n",
              "      <td>Customer Service</td>\n",
              "      <td>Customer Support Representative</td>\n",
              "      <td>6</td>\n",
              "      <td>20-29</td>\n",
              "      <td>Remote</td>\n",
              "      <td>Yes</td>\n",
              "      <td>2023-04-21</td>\n",
              "      <td>Downsizing</td>\n",
              "      <td>Yes</td>\n",
              "      <td>False</td>\n",
              "      <td>None</td>\n",
              "    </tr>\n",
              "    <tr>\n",
              "      <th>184</th>\n",
              "      <td>EMP_8796</td>\n",
              "      <td>Finance</td>\n",
              "      <td>Accountant</td>\n",
              "      <td>9</td>\n",
              "      <td>30-39</td>\n",
              "      <td>New York City</td>\n",
              "      <td>True</td>\n",
              "      <td>2024-04-19</td>\n",
              "      <td>Restructuring</td>\n",
              "      <td>False</td>\n",
              "      <td>True</td>\n",
              "      <td>Operations (Department)</td>\n",
              "    </tr>\n",
              "  </tbody>\n",
              "</table>\n",
              "<p>185 rows × 12 columns</p>\n",
              "</div>"
            ],
            "text/plain": [
              "    Employee ID        Department                            Job Title  \\\n",
              "0      EMP_0001       Engineering                    Software Engineer   \n",
              "1      EMP_0002         Marketing                    Marketing Manager   \n",
              "2      EMP_0003             Sales                      Sales Associate   \n",
              "3      EMP_0004                IT                Network Administrator   \n",
              "4      EMP_0005       Engineering                       Data Scientist   \n",
              "..          ...               ...                                  ...   \n",
              "180    EMP_5683         Marketing          Public Relations Specialist   \n",
              "181    EMP_0314             Sales  Business Development Representative   \n",
              "182    EMP_7951       Engineering                     Backend Engineer   \n",
              "183    EMP_2228  Customer Service      Customer Support Representative   \n",
              "184    EMP_8796           Finance                           Accountant   \n",
              "\n",
              "    Years of Experience Age Range                Location Laid Off  \\\n",
              "0                     5     20-29  San Francisco Bay Area       No   \n",
              "1                    10     30-39           New York City       No   \n",
              "2                     2     20-29                  London       No   \n",
              "3                    15     40-49                  Remote      Yes   \n",
              "4                     8     30-39  San Francisco Bay Area       No   \n",
              "..                  ...       ...                     ...      ...   \n",
              "180                   4     20-29           New York City    False   \n",
              "181                   2     20-29                  London    False   \n",
              "182                   1     20-29  San Francisco Bay Area    False   \n",
              "183                   6     20-29                  Remote      Yes   \n",
              "184                   9     30-39           New York City     True   \n",
              "\n",
              "    Layoff Date  Layoff Reason Severance Package Promotion  \\\n",
              "0           NaN      Promotion               Yes       NaN   \n",
              "1           NaN      Promotion                No       NaN   \n",
              "2           NaN             No                No       NaN   \n",
              "3          2024  Restructuring               Yes       NaN   \n",
              "4           NaN             No                No       NaN   \n",
              "..          ...            ...               ...       ...   \n",
              "180        None           None              None      True   \n",
              "181        None           None              None     False   \n",
              "182        None           None              None     False   \n",
              "183  2023-04-21     Downsizing               Yes     False   \n",
              "184  2024-04-19  Restructuring             False      True   \n",
              "\n",
              "                                          Transfer  \n",
              "0                                              NaN  \n",
              "1                                              NaN  \n",
              "2                                              NaN  \n",
              "3                                              NaN  \n",
              "4                                              NaN  \n",
              "..                                             ...  \n",
              "180                   Marketing Manager (EMP_1907)  \n",
              "181     Promotion to Account Executive (Next Role)  \n",
              "182  Promotion to Full Stack Developer (Next Role)  \n",
              "183                                           None  \n",
              "184                        Operations (Department)  \n",
              "\n",
              "[185 rows x 12 columns]"
            ]
          },
          "execution_count": 91,
          "metadata": {},
          "output_type": "execute_result"
        }
      ],
      "source": [
        "df"
      ]
    },
    {
      "cell_type": "code",
      "execution_count": 92,
      "metadata": {
        "colab": {
          "base_uri": "https://localhost:8080/",
          "height": 345
        },
        "id": "S0r0VB9T7PT4",
        "outputId": "620eeffe-d7cf-403a-c136-6594fc22a85d"
      },
      "outputs": [
        {
          "data": {
            "text/html": [
              "<div>\n",
              "<style scoped>\n",
              "    .dataframe tbody tr th:only-of-type {\n",
              "        vertical-align: middle;\n",
              "    }\n",
              "\n",
              "    .dataframe tbody tr th {\n",
              "        vertical-align: top;\n",
              "    }\n",
              "\n",
              "    .dataframe thead th {\n",
              "        text-align: right;\n",
              "    }\n",
              "</style>\n",
              "<table border=\"1\" class=\"dataframe\">\n",
              "  <thead>\n",
              "    <tr style=\"text-align: right;\">\n",
              "      <th></th>\n",
              "      <th>Employee ID</th>\n",
              "      <th>Department</th>\n",
              "      <th>Job Title</th>\n",
              "      <th>Years of Experience</th>\n",
              "      <th>Age Range</th>\n",
              "      <th>Location</th>\n",
              "      <th>Laid Off</th>\n",
              "      <th>Layoff Date</th>\n",
              "      <th>Layoff Reason</th>\n",
              "      <th>Severance Package</th>\n",
              "      <th>Promotion</th>\n",
              "      <th>Transfer</th>\n",
              "    </tr>\n",
              "  </thead>\n",
              "  <tbody>\n",
              "    <tr>\n",
              "      <th>0</th>\n",
              "      <td>EMP_0001</td>\n",
              "      <td>Engineering</td>\n",
              "      <td>Software Engineer</td>\n",
              "      <td>5</td>\n",
              "      <td>20-29</td>\n",
              "      <td>San Francisco Bay Area</td>\n",
              "      <td>No</td>\n",
              "      <td>NaN</td>\n",
              "      <td>Promotion</td>\n",
              "      <td>Yes</td>\n",
              "      <td>NaN</td>\n",
              "      <td>NaN</td>\n",
              "    </tr>\n",
              "    <tr>\n",
              "      <th>1</th>\n",
              "      <td>EMP_0002</td>\n",
              "      <td>Marketing</td>\n",
              "      <td>Marketing Manager</td>\n",
              "      <td>10</td>\n",
              "      <td>30-39</td>\n",
              "      <td>New York City</td>\n",
              "      <td>No</td>\n",
              "      <td>NaN</td>\n",
              "      <td>Promotion</td>\n",
              "      <td>No</td>\n",
              "      <td>NaN</td>\n",
              "      <td>NaN</td>\n",
              "    </tr>\n",
              "    <tr>\n",
              "      <th>2</th>\n",
              "      <td>EMP_0003</td>\n",
              "      <td>Sales</td>\n",
              "      <td>Sales Associate</td>\n",
              "      <td>2</td>\n",
              "      <td>20-29</td>\n",
              "      <td>London</td>\n",
              "      <td>No</td>\n",
              "      <td>NaN</td>\n",
              "      <td>No</td>\n",
              "      <td>No</td>\n",
              "      <td>NaN</td>\n",
              "      <td>NaN</td>\n",
              "    </tr>\n",
              "    <tr>\n",
              "      <th>3</th>\n",
              "      <td>EMP_0004</td>\n",
              "      <td>IT</td>\n",
              "      <td>Network Administrator</td>\n",
              "      <td>15</td>\n",
              "      <td>40-49</td>\n",
              "      <td>Remote</td>\n",
              "      <td>Yes</td>\n",
              "      <td>2024</td>\n",
              "      <td>Restructuring</td>\n",
              "      <td>Yes</td>\n",
              "      <td>NaN</td>\n",
              "      <td>NaN</td>\n",
              "    </tr>\n",
              "    <tr>\n",
              "      <th>4</th>\n",
              "      <td>EMP_0005</td>\n",
              "      <td>Engineering</td>\n",
              "      <td>Data Scientist</td>\n",
              "      <td>8</td>\n",
              "      <td>30-39</td>\n",
              "      <td>San Francisco Bay Area</td>\n",
              "      <td>No</td>\n",
              "      <td>NaN</td>\n",
              "      <td>No</td>\n",
              "      <td>No</td>\n",
              "      <td>NaN</td>\n",
              "      <td>NaN</td>\n",
              "    </tr>\n",
              "  </tbody>\n",
              "</table>\n",
              "</div>"
            ],
            "text/plain": [
              "  Employee ID   Department              Job Title Years of Experience  \\\n",
              "0    EMP_0001  Engineering      Software Engineer                   5   \n",
              "1    EMP_0002    Marketing      Marketing Manager                  10   \n",
              "2    EMP_0003        Sales        Sales Associate                   2   \n",
              "3    EMP_0004           IT  Network Administrator                  15   \n",
              "4    EMP_0005  Engineering         Data Scientist                   8   \n",
              "\n",
              "  Age Range                Location Laid Off Layoff Date  Layoff Reason  \\\n",
              "0     20-29  San Francisco Bay Area       No         NaN      Promotion   \n",
              "1     30-39           New York City       No         NaN      Promotion   \n",
              "2     20-29                  London       No         NaN             No   \n",
              "3     40-49                  Remote      Yes        2024  Restructuring   \n",
              "4     30-39  San Francisco Bay Area       No         NaN             No   \n",
              "\n",
              "  Severance Package Promotion Transfer  \n",
              "0               Yes       NaN      NaN  \n",
              "1                No       NaN      NaN  \n",
              "2                No       NaN      NaN  \n",
              "3               Yes       NaN      NaN  \n",
              "4                No       NaN      NaN  "
            ]
          },
          "execution_count": 92,
          "metadata": {},
          "output_type": "execute_result"
        }
      ],
      "source": [
        "df.head()"
      ]
    },
    {
      "cell_type": "code",
      "execution_count": 93,
      "metadata": {
        "colab": {
          "base_uri": "https://localhost:8080/"
        },
        "id": "axNr1rL27Qm0",
        "outputId": "cae1402b-0bbf-417a-93a8-4c42c76e1adb"
      },
      "outputs": [
        {
          "name": "stdout",
          "output_type": "stream",
          "text": [
            "<class 'pandas.core.frame.DataFrame'>\n",
            "RangeIndex: 185 entries, 0 to 184\n",
            "Data columns (total 12 columns):\n",
            " #   Column               Non-Null Count  Dtype \n",
            "---  ------               --------------  ----- \n",
            " 0   Employee ID          185 non-null    object\n",
            " 1   Department           185 non-null    object\n",
            " 2   Job Title            185 non-null    object\n",
            " 3   Years of Experience  185 non-null    object\n",
            " 4   Age Range            184 non-null    object\n",
            " 5   Location             184 non-null    object\n",
            " 6   Laid Off             182 non-null    object\n",
            " 7   Layoff Date          89 non-null     object\n",
            " 8   Layoff Reason        182 non-null    object\n",
            " 9   Severance Package    181 non-null    object\n",
            " 10  Promotion            62 non-null     object\n",
            " 11  Transfer             62 non-null     object\n",
            "dtypes: object(12)\n",
            "memory usage: 17.5+ KB\n"
          ]
        }
      ],
      "source": [
        "df.info()"
      ]
    },
    {
      "cell_type": "code",
      "execution_count": 94,
      "metadata": {
        "colab": {
          "base_uri": "https://localhost:8080/"
        },
        "id": "6pskHy5Z7V7f",
        "outputId": "d4b80073-bfc8-4216-f44c-fe638bb18386"
      },
      "outputs": [
        {
          "data": {
            "text/plain": [
              "Employee ID              0\n",
              "Department               0\n",
              "Job Title                0\n",
              "Years of Experience      0\n",
              "Age Range                1\n",
              "Location                 1\n",
              "Laid Off                 3\n",
              "Layoff Date             96\n",
              "Layoff Reason            3\n",
              "Severance Package        4\n",
              "Promotion              123\n",
              "Transfer               123\n",
              "dtype: int64"
            ]
          },
          "execution_count": 94,
          "metadata": {},
          "output_type": "execute_result"
        }
      ],
      "source": [
        "df.isnull().sum()"
      ]
    },
    {
      "cell_type": "code",
      "execution_count": 95,
      "metadata": {
        "id": "6o6Ns4XS94RJ"
      },
      "outputs": [],
      "source": [
        "try:\n",
        "  lst = []\n",
        "  for i in df['Years of Experience']:\n",
        "    lst.append(int(i))\n",
        "except ValueError:\n",
        "  pass\n"
      ]
    },
    {
      "cell_type": "code",
      "execution_count": 96,
      "metadata": {
        "id": "q_gTcc7dDxj9"
      },
      "outputs": [],
      "source": [
        "try:\n",
        "  df['Years of Experience'] = df['Years of Experience'].astype(int)\n",
        "except ValueError:\n",
        "  df['Years of Experience'] = pd.to_numeric(df['Years of Experience'], errors='coerce')"
      ]
    },
    {
      "cell_type": "code",
      "execution_count": 97,
      "metadata": {
        "colab": {
          "base_uri": "https://localhost:8080/"
        },
        "id": "iudf6xVED3h5",
        "outputId": "1db4e39c-8079-40ad-ce85-41a22e369d5c"
      },
      "outputs": [
        {
          "data": {
            "text/plain": [
              "Employee ID              0\n",
              "Department               0\n",
              "Job Title                0\n",
              "Years of Experience      2\n",
              "Age Range                1\n",
              "Location                 1\n",
              "Laid Off                 3\n",
              "Layoff Date             96\n",
              "Layoff Reason            3\n",
              "Severance Package        4\n",
              "Promotion              123\n",
              "Transfer               123\n",
              "dtype: int64"
            ]
          },
          "execution_count": 97,
          "metadata": {},
          "output_type": "execute_result"
        }
      ],
      "source": [
        "df.isnull().sum()"
      ]
    },
    {
      "cell_type": "code",
      "execution_count": 98,
      "metadata": {
        "id": "43Ib94stG1yu"
      },
      "outputs": [],
      "source": [
        "df['Years of Experience'] = df['Years of Experience'].fillna(df['Years of Experience'].mode()[0])"
      ]
    },
    {
      "cell_type": "code",
      "execution_count": 99,
      "metadata": {
        "id": "ubmvU1eYHDpF"
      },
      "outputs": [],
      "source": [
        "df['Years of Experience'] = df['Years of Experience'].astype(int)"
      ]
    },
    {
      "cell_type": "code",
      "execution_count": 100,
      "metadata": {
        "colab": {
          "base_uri": "https://localhost:8080/"
        },
        "id": "29heVGWqHJx7",
        "outputId": "ce8b7f27-61a8-4434-e584-9f317fdb4ab4"
      },
      "outputs": [
        {
          "name": "stdout",
          "output_type": "stream",
          "text": [
            "<class 'pandas.core.frame.DataFrame'>\n",
            "RangeIndex: 185 entries, 0 to 184\n",
            "Data columns (total 12 columns):\n",
            " #   Column               Non-Null Count  Dtype \n",
            "---  ------               --------------  ----- \n",
            " 0   Employee ID          185 non-null    object\n",
            " 1   Department           185 non-null    object\n",
            " 2   Job Title            185 non-null    object\n",
            " 3   Years of Experience  185 non-null    int32 \n",
            " 4   Age Range            184 non-null    object\n",
            " 5   Location             184 non-null    object\n",
            " 6   Laid Off             182 non-null    object\n",
            " 7   Layoff Date          89 non-null     object\n",
            " 8   Layoff Reason        182 non-null    object\n",
            " 9   Severance Package    181 non-null    object\n",
            " 10  Promotion            62 non-null     object\n",
            " 11  Transfer             62 non-null     object\n",
            "dtypes: int32(1), object(11)\n",
            "memory usage: 16.8+ KB\n"
          ]
        }
      ],
      "source": [
        "df.info()"
      ]
    },
    {
      "cell_type": "code",
      "execution_count": 101,
      "metadata": {
        "colab": {
          "base_uri": "https://localhost:8080/",
          "height": 345
        },
        "id": "3CQPa6PiHL1R",
        "outputId": "42094195-3d60-4390-88be-9f4d1fe06440"
      },
      "outputs": [
        {
          "data": {
            "text/html": [
              "<div>\n",
              "<style scoped>\n",
              "    .dataframe tbody tr th:only-of-type {\n",
              "        vertical-align: middle;\n",
              "    }\n",
              "\n",
              "    .dataframe tbody tr th {\n",
              "        vertical-align: top;\n",
              "    }\n",
              "\n",
              "    .dataframe thead th {\n",
              "        text-align: right;\n",
              "    }\n",
              "</style>\n",
              "<table border=\"1\" class=\"dataframe\">\n",
              "  <thead>\n",
              "    <tr style=\"text-align: right;\">\n",
              "      <th></th>\n",
              "      <th>Employee ID</th>\n",
              "      <th>Department</th>\n",
              "      <th>Job Title</th>\n",
              "      <th>Years of Experience</th>\n",
              "      <th>Age Range</th>\n",
              "      <th>Location</th>\n",
              "      <th>Laid Off</th>\n",
              "      <th>Layoff Date</th>\n",
              "      <th>Layoff Reason</th>\n",
              "      <th>Severance Package</th>\n",
              "      <th>Promotion</th>\n",
              "      <th>Transfer</th>\n",
              "    </tr>\n",
              "  </thead>\n",
              "  <tbody>\n",
              "    <tr>\n",
              "      <th>0</th>\n",
              "      <td>EMP_0001</td>\n",
              "      <td>Engineering</td>\n",
              "      <td>Software Engineer</td>\n",
              "      <td>5</td>\n",
              "      <td>20-29</td>\n",
              "      <td>San Francisco Bay Area</td>\n",
              "      <td>No</td>\n",
              "      <td>NaN</td>\n",
              "      <td>Promotion</td>\n",
              "      <td>Yes</td>\n",
              "      <td>NaN</td>\n",
              "      <td>NaN</td>\n",
              "    </tr>\n",
              "    <tr>\n",
              "      <th>1</th>\n",
              "      <td>EMP_0002</td>\n",
              "      <td>Marketing</td>\n",
              "      <td>Marketing Manager</td>\n",
              "      <td>10</td>\n",
              "      <td>30-39</td>\n",
              "      <td>New York City</td>\n",
              "      <td>No</td>\n",
              "      <td>NaN</td>\n",
              "      <td>Promotion</td>\n",
              "      <td>No</td>\n",
              "      <td>NaN</td>\n",
              "      <td>NaN</td>\n",
              "    </tr>\n",
              "    <tr>\n",
              "      <th>2</th>\n",
              "      <td>EMP_0003</td>\n",
              "      <td>Sales</td>\n",
              "      <td>Sales Associate</td>\n",
              "      <td>2</td>\n",
              "      <td>20-29</td>\n",
              "      <td>London</td>\n",
              "      <td>No</td>\n",
              "      <td>NaN</td>\n",
              "      <td>No</td>\n",
              "      <td>No</td>\n",
              "      <td>NaN</td>\n",
              "      <td>NaN</td>\n",
              "    </tr>\n",
              "    <tr>\n",
              "      <th>3</th>\n",
              "      <td>EMP_0004</td>\n",
              "      <td>IT</td>\n",
              "      <td>Network Administrator</td>\n",
              "      <td>15</td>\n",
              "      <td>40-49</td>\n",
              "      <td>Remote</td>\n",
              "      <td>Yes</td>\n",
              "      <td>2024</td>\n",
              "      <td>Restructuring</td>\n",
              "      <td>Yes</td>\n",
              "      <td>NaN</td>\n",
              "      <td>NaN</td>\n",
              "    </tr>\n",
              "    <tr>\n",
              "      <th>4</th>\n",
              "      <td>EMP_0005</td>\n",
              "      <td>Engineering</td>\n",
              "      <td>Data Scientist</td>\n",
              "      <td>8</td>\n",
              "      <td>30-39</td>\n",
              "      <td>San Francisco Bay Area</td>\n",
              "      <td>No</td>\n",
              "      <td>NaN</td>\n",
              "      <td>No</td>\n",
              "      <td>No</td>\n",
              "      <td>NaN</td>\n",
              "      <td>NaN</td>\n",
              "    </tr>\n",
              "  </tbody>\n",
              "</table>\n",
              "</div>"
            ],
            "text/plain": [
              "  Employee ID   Department              Job Title  Years of Experience  \\\n",
              "0    EMP_0001  Engineering      Software Engineer                    5   \n",
              "1    EMP_0002    Marketing      Marketing Manager                   10   \n",
              "2    EMP_0003        Sales        Sales Associate                    2   \n",
              "3    EMP_0004           IT  Network Administrator                   15   \n",
              "4    EMP_0005  Engineering         Data Scientist                    8   \n",
              "\n",
              "  Age Range                Location Laid Off Layoff Date  Layoff Reason  \\\n",
              "0     20-29  San Francisco Bay Area       No         NaN      Promotion   \n",
              "1     30-39           New York City       No         NaN      Promotion   \n",
              "2     20-29                  London       No         NaN             No   \n",
              "3     40-49                  Remote      Yes        2024  Restructuring   \n",
              "4     30-39  San Francisco Bay Area       No         NaN             No   \n",
              "\n",
              "  Severance Package Promotion Transfer  \n",
              "0               Yes       NaN      NaN  \n",
              "1                No       NaN      NaN  \n",
              "2                No       NaN      NaN  \n",
              "3               Yes       NaN      NaN  \n",
              "4                No       NaN      NaN  "
            ]
          },
          "execution_count": 101,
          "metadata": {},
          "output_type": "execute_result"
        }
      ],
      "source": [
        "df.head()"
      ]
    },
    {
      "cell_type": "code",
      "execution_count": 102,
      "metadata": {
        "colab": {
          "base_uri": "https://localhost:8080/"
        },
        "id": "-efHuVXKCLyo",
        "outputId": "3dd856a0-8a5c-4621-8d83-523b8243540e"
      },
      "outputs": [
        {
          "data": {
            "text/plain": [
              "1"
            ]
          },
          "execution_count": 102,
          "metadata": {},
          "output_type": "execute_result"
        }
      ],
      "source": [
        "df['Age Range'].isnull().sum()"
      ]
    },
    {
      "cell_type": "code",
      "execution_count": 103,
      "metadata": {
        "id": "hzEIFRKY_ZZa"
      },
      "outputs": [],
      "source": [
        "# Convert the age range to mean age\n",
        "temp = []\n",
        "for i in df['Age Range']:\n",
        "  try:\n",
        "      lst = i.split('-')\n",
        "      temp.append((int(lst[1]) + int(lst[0]) + 1) // 2)\n",
        "  except:\n",
        "    temp.append(np.nan)"
      ]
    },
    {
      "cell_type": "code",
      "execution_count": 104,
      "metadata": {
        "colab": {
          "base_uri": "https://localhost:8080/"
        },
        "id": "9trEfxHPBxYu",
        "outputId": "82f6becf-b142-4e67-e53c-1ed52c0e88fa"
      },
      "outputs": [
        {
          "data": {
            "text/plain": [
              "185"
            ]
          },
          "execution_count": 104,
          "metadata": {},
          "output_type": "execute_result"
        }
      ],
      "source": [
        "len(temp)"
      ]
    },
    {
      "cell_type": "code",
      "execution_count": 105,
      "metadata": {
        "id": "hX1_LfFPCALc"
      },
      "outputs": [],
      "source": [
        "df['Age Range'] = pd.Series(temp)"
      ]
    },
    {
      "cell_type": "code",
      "execution_count": 106,
      "metadata": {
        "colab": {
          "base_uri": "https://localhost:8080/"
        },
        "id": "QM9NyRSBD3YF",
        "outputId": "6e102521-a27e-4d3d-c302-b01d41ba8a4e"
      },
      "outputs": [
        {
          "data": {
            "text/plain": [
              "0      25.0\n",
              "1      35.0\n",
              "2      25.0\n",
              "3      45.0\n",
              "4      35.0\n",
              "       ... \n",
              "180    25.0\n",
              "181    25.0\n",
              "182    25.0\n",
              "183    25.0\n",
              "184    35.0\n",
              "Name: Age Range, Length: 185, dtype: float64"
            ]
          },
          "execution_count": 106,
          "metadata": {},
          "output_type": "execute_result"
        }
      ],
      "source": [
        "df['Age Range']"
      ]
    },
    {
      "cell_type": "code",
      "execution_count": 107,
      "metadata": {
        "colab": {
          "base_uri": "https://localhost:8080/",
          "height": 345
        },
        "id": "Q-YM9d8JD6Ke",
        "outputId": "0fcadbd7-7196-4964-ec51-dc0ce768f008"
      },
      "outputs": [
        {
          "data": {
            "text/html": [
              "<div>\n",
              "<style scoped>\n",
              "    .dataframe tbody tr th:only-of-type {\n",
              "        vertical-align: middle;\n",
              "    }\n",
              "\n",
              "    .dataframe tbody tr th {\n",
              "        vertical-align: top;\n",
              "    }\n",
              "\n",
              "    .dataframe thead th {\n",
              "        text-align: right;\n",
              "    }\n",
              "</style>\n",
              "<table border=\"1\" class=\"dataframe\">\n",
              "  <thead>\n",
              "    <tr style=\"text-align: right;\">\n",
              "      <th></th>\n",
              "      <th>Employee ID</th>\n",
              "      <th>Department</th>\n",
              "      <th>Job Title</th>\n",
              "      <th>Years of Experience</th>\n",
              "      <th>Age Range</th>\n",
              "      <th>Location</th>\n",
              "      <th>Laid Off</th>\n",
              "      <th>Layoff Date</th>\n",
              "      <th>Layoff Reason</th>\n",
              "      <th>Severance Package</th>\n",
              "      <th>Promotion</th>\n",
              "      <th>Transfer</th>\n",
              "    </tr>\n",
              "  </thead>\n",
              "  <tbody>\n",
              "    <tr>\n",
              "      <th>0</th>\n",
              "      <td>EMP_0001</td>\n",
              "      <td>Engineering</td>\n",
              "      <td>Software Engineer</td>\n",
              "      <td>5</td>\n",
              "      <td>25.0</td>\n",
              "      <td>San Francisco Bay Area</td>\n",
              "      <td>No</td>\n",
              "      <td>NaN</td>\n",
              "      <td>Promotion</td>\n",
              "      <td>Yes</td>\n",
              "      <td>NaN</td>\n",
              "      <td>NaN</td>\n",
              "    </tr>\n",
              "    <tr>\n",
              "      <th>1</th>\n",
              "      <td>EMP_0002</td>\n",
              "      <td>Marketing</td>\n",
              "      <td>Marketing Manager</td>\n",
              "      <td>10</td>\n",
              "      <td>35.0</td>\n",
              "      <td>New York City</td>\n",
              "      <td>No</td>\n",
              "      <td>NaN</td>\n",
              "      <td>Promotion</td>\n",
              "      <td>No</td>\n",
              "      <td>NaN</td>\n",
              "      <td>NaN</td>\n",
              "    </tr>\n",
              "    <tr>\n",
              "      <th>2</th>\n",
              "      <td>EMP_0003</td>\n",
              "      <td>Sales</td>\n",
              "      <td>Sales Associate</td>\n",
              "      <td>2</td>\n",
              "      <td>25.0</td>\n",
              "      <td>London</td>\n",
              "      <td>No</td>\n",
              "      <td>NaN</td>\n",
              "      <td>No</td>\n",
              "      <td>No</td>\n",
              "      <td>NaN</td>\n",
              "      <td>NaN</td>\n",
              "    </tr>\n",
              "    <tr>\n",
              "      <th>3</th>\n",
              "      <td>EMP_0004</td>\n",
              "      <td>IT</td>\n",
              "      <td>Network Administrator</td>\n",
              "      <td>15</td>\n",
              "      <td>45.0</td>\n",
              "      <td>Remote</td>\n",
              "      <td>Yes</td>\n",
              "      <td>2024</td>\n",
              "      <td>Restructuring</td>\n",
              "      <td>Yes</td>\n",
              "      <td>NaN</td>\n",
              "      <td>NaN</td>\n",
              "    </tr>\n",
              "    <tr>\n",
              "      <th>4</th>\n",
              "      <td>EMP_0005</td>\n",
              "      <td>Engineering</td>\n",
              "      <td>Data Scientist</td>\n",
              "      <td>8</td>\n",
              "      <td>35.0</td>\n",
              "      <td>San Francisco Bay Area</td>\n",
              "      <td>No</td>\n",
              "      <td>NaN</td>\n",
              "      <td>No</td>\n",
              "      <td>No</td>\n",
              "      <td>NaN</td>\n",
              "      <td>NaN</td>\n",
              "    </tr>\n",
              "  </tbody>\n",
              "</table>\n",
              "</div>"
            ],
            "text/plain": [
              "  Employee ID   Department              Job Title  Years of Experience  \\\n",
              "0    EMP_0001  Engineering      Software Engineer                    5   \n",
              "1    EMP_0002    Marketing      Marketing Manager                   10   \n",
              "2    EMP_0003        Sales        Sales Associate                    2   \n",
              "3    EMP_0004           IT  Network Administrator                   15   \n",
              "4    EMP_0005  Engineering         Data Scientist                    8   \n",
              "\n",
              "   Age Range                Location Laid Off Layoff Date  Layoff Reason  \\\n",
              "0       25.0  San Francisco Bay Area       No         NaN      Promotion   \n",
              "1       35.0           New York City       No         NaN      Promotion   \n",
              "2       25.0                  London       No         NaN             No   \n",
              "3       45.0                  Remote      Yes        2024  Restructuring   \n",
              "4       35.0  San Francisco Bay Area       No         NaN             No   \n",
              "\n",
              "  Severance Package Promotion Transfer  \n",
              "0               Yes       NaN      NaN  \n",
              "1                No       NaN      NaN  \n",
              "2                No       NaN      NaN  \n",
              "3               Yes       NaN      NaN  \n",
              "4                No       NaN      NaN  "
            ]
          },
          "execution_count": 107,
          "metadata": {},
          "output_type": "execute_result"
        }
      ],
      "source": [
        "df.head()"
      ]
    },
    {
      "cell_type": "code",
      "execution_count": 108,
      "metadata": {
        "colab": {
          "base_uri": "https://localhost:8080/"
        },
        "id": "ac-cdL-6EePL",
        "outputId": "5521af73-2172-4f41-a2e7-7f92323b4ca2"
      },
      "outputs": [
        {
          "data": {
            "text/plain": [
              "array(['No', 'Yes', nan, 'True', 'False', 'Laid Off'], dtype=object)"
            ]
          },
          "execution_count": 108,
          "metadata": {},
          "output_type": "execute_result"
        }
      ],
      "source": [
        "df['Laid Off'].unique()"
      ]
    },
    {
      "cell_type": "code",
      "execution_count": 109,
      "metadata": {
        "id": "QFpSDYXKE1GJ"
      },
      "outputs": [],
      "source": [
        "df.loc[df['Laid Off'] == 'True', 'Laid Off'] = 'Yes'\n",
        "df.loc[df['Laid Off'] == 'False', 'Laid Off'] = 'No'\n",
        "df.loc[df['Laid Off'] == 'Laid Off', 'Laid Off'] = 'Yes'"
      ]
    },
    {
      "cell_type": "code",
      "execution_count": 110,
      "metadata": {
        "colab": {
          "base_uri": "https://localhost:8080/"
        },
        "id": "R6G6Z4IYGI1v",
        "outputId": "b96b8e7e-5f6c-44ec-fa22-f3f5537bc1cd"
      },
      "outputs": [
        {
          "data": {
            "text/plain": [
              "No     133\n",
              "Yes     49\n",
              "Name: Laid Off, dtype: int64"
            ]
          },
          "execution_count": 110,
          "metadata": {},
          "output_type": "execute_result"
        }
      ],
      "source": [
        "df['Laid Off'].value_counts()"
      ]
    },
    {
      "cell_type": "code",
      "execution_count": 111,
      "metadata": {
        "id": "I3qMzh4sNmbd"
      },
      "outputs": [],
      "source": [
        "df['Laid Off'] = df['Laid Off'].fillna(df['Laid Off'].mode()[0])"
      ]
    },
    {
      "cell_type": "code",
      "execution_count": 112,
      "metadata": {
        "id": "fd7Ive-aON0j"
      },
      "outputs": [],
      "source": [
        "df['Laid Off'] = df['Laid Off'].map({'Yes' : 1, 'No' : 0})"
      ]
    },
    {
      "cell_type": "code",
      "execution_count": 113,
      "metadata": {
        "colab": {
          "base_uri": "https://localhost:8080/",
          "height": 345
        },
        "id": "MSZrRyVZN48U",
        "outputId": "ee5594b8-aa1b-4876-d16d-c0d6875678f7"
      },
      "outputs": [
        {
          "data": {
            "text/html": [
              "<div>\n",
              "<style scoped>\n",
              "    .dataframe tbody tr th:only-of-type {\n",
              "        vertical-align: middle;\n",
              "    }\n",
              "\n",
              "    .dataframe tbody tr th {\n",
              "        vertical-align: top;\n",
              "    }\n",
              "\n",
              "    .dataframe thead th {\n",
              "        text-align: right;\n",
              "    }\n",
              "</style>\n",
              "<table border=\"1\" class=\"dataframe\">\n",
              "  <thead>\n",
              "    <tr style=\"text-align: right;\">\n",
              "      <th></th>\n",
              "      <th>Employee ID</th>\n",
              "      <th>Department</th>\n",
              "      <th>Job Title</th>\n",
              "      <th>Years of Experience</th>\n",
              "      <th>Age Range</th>\n",
              "      <th>Location</th>\n",
              "      <th>Laid Off</th>\n",
              "      <th>Layoff Date</th>\n",
              "      <th>Layoff Reason</th>\n",
              "      <th>Severance Package</th>\n",
              "      <th>Promotion</th>\n",
              "      <th>Transfer</th>\n",
              "    </tr>\n",
              "  </thead>\n",
              "  <tbody>\n",
              "    <tr>\n",
              "      <th>0</th>\n",
              "      <td>EMP_0001</td>\n",
              "      <td>Engineering</td>\n",
              "      <td>Software Engineer</td>\n",
              "      <td>5</td>\n",
              "      <td>25.0</td>\n",
              "      <td>San Francisco Bay Area</td>\n",
              "      <td>0</td>\n",
              "      <td>NaN</td>\n",
              "      <td>Promotion</td>\n",
              "      <td>Yes</td>\n",
              "      <td>NaN</td>\n",
              "      <td>NaN</td>\n",
              "    </tr>\n",
              "    <tr>\n",
              "      <th>1</th>\n",
              "      <td>EMP_0002</td>\n",
              "      <td>Marketing</td>\n",
              "      <td>Marketing Manager</td>\n",
              "      <td>10</td>\n",
              "      <td>35.0</td>\n",
              "      <td>New York City</td>\n",
              "      <td>0</td>\n",
              "      <td>NaN</td>\n",
              "      <td>Promotion</td>\n",
              "      <td>No</td>\n",
              "      <td>NaN</td>\n",
              "      <td>NaN</td>\n",
              "    </tr>\n",
              "    <tr>\n",
              "      <th>2</th>\n",
              "      <td>EMP_0003</td>\n",
              "      <td>Sales</td>\n",
              "      <td>Sales Associate</td>\n",
              "      <td>2</td>\n",
              "      <td>25.0</td>\n",
              "      <td>London</td>\n",
              "      <td>0</td>\n",
              "      <td>NaN</td>\n",
              "      <td>No</td>\n",
              "      <td>No</td>\n",
              "      <td>NaN</td>\n",
              "      <td>NaN</td>\n",
              "    </tr>\n",
              "    <tr>\n",
              "      <th>3</th>\n",
              "      <td>EMP_0004</td>\n",
              "      <td>IT</td>\n",
              "      <td>Network Administrator</td>\n",
              "      <td>15</td>\n",
              "      <td>45.0</td>\n",
              "      <td>Remote</td>\n",
              "      <td>1</td>\n",
              "      <td>2024</td>\n",
              "      <td>Restructuring</td>\n",
              "      <td>Yes</td>\n",
              "      <td>NaN</td>\n",
              "      <td>NaN</td>\n",
              "    </tr>\n",
              "    <tr>\n",
              "      <th>4</th>\n",
              "      <td>EMP_0005</td>\n",
              "      <td>Engineering</td>\n",
              "      <td>Data Scientist</td>\n",
              "      <td>8</td>\n",
              "      <td>35.0</td>\n",
              "      <td>San Francisco Bay Area</td>\n",
              "      <td>0</td>\n",
              "      <td>NaN</td>\n",
              "      <td>No</td>\n",
              "      <td>No</td>\n",
              "      <td>NaN</td>\n",
              "      <td>NaN</td>\n",
              "    </tr>\n",
              "  </tbody>\n",
              "</table>\n",
              "</div>"
            ],
            "text/plain": [
              "  Employee ID   Department              Job Title  Years of Experience  \\\n",
              "0    EMP_0001  Engineering      Software Engineer                    5   \n",
              "1    EMP_0002    Marketing      Marketing Manager                   10   \n",
              "2    EMP_0003        Sales        Sales Associate                    2   \n",
              "3    EMP_0004           IT  Network Administrator                   15   \n",
              "4    EMP_0005  Engineering         Data Scientist                    8   \n",
              "\n",
              "   Age Range                Location  Laid Off Layoff Date  Layoff Reason  \\\n",
              "0       25.0  San Francisco Bay Area         0         NaN      Promotion   \n",
              "1       35.0           New York City         0         NaN      Promotion   \n",
              "2       25.0                  London         0         NaN             No   \n",
              "3       45.0                  Remote         1        2024  Restructuring   \n",
              "4       35.0  San Francisco Bay Area         0         NaN             No   \n",
              "\n",
              "  Severance Package Promotion Transfer  \n",
              "0               Yes       NaN      NaN  \n",
              "1                No       NaN      NaN  \n",
              "2                No       NaN      NaN  \n",
              "3               Yes       NaN      NaN  \n",
              "4                No       NaN      NaN  "
            ]
          },
          "execution_count": 113,
          "metadata": {},
          "output_type": "execute_result"
        }
      ],
      "source": [
        "df.head()"
      ]
    },
    {
      "cell_type": "code",
      "execution_count": 114,
      "metadata": {
        "colab": {
          "base_uri": "https://localhost:8080/"
        },
        "id": "RrYHbp98OCIe",
        "outputId": "0d577717-bede-4be3-ae85-14d82b4fb157"
      },
      "outputs": [
        {
          "data": {
            "text/plain": [
              "array([nan, '2024', '2023', '2022-6-22', 'None', '2020-10-24',\n",
              "       '2022-1-23', '2020-4-22', '2021-11-10', '2022-5-17', '2023-6-7',\n",
              "       '2020-6-15', '2023-11-16', 'Layoff Date', '2024-02-14',\n",
              "       '2023-12-08', '2024-04-12', '2023-08-23', '2024-01-19',\n",
              "       '2024-03-15', '2023-05-12', '2024-05-02', '2023-11-17',\n",
              "       '2024-02-09', '2023-04-21', '2024-04-19'], dtype=object)"
            ]
          },
          "execution_count": 114,
          "metadata": {},
          "output_type": "execute_result"
        }
      ],
      "source": [
        "df['Layoff Date'].unique()"
      ]
    },
    {
      "cell_type": "code",
      "execution_count": 115,
      "metadata": {
        "colab": {
          "base_uri": "https://localhost:8080/",
          "height": 322
        },
        "id": "4NxevdO8Oa4b",
        "outputId": "aac55456-8329-4901-8bc2-64b2f6a2e270"
      },
      "outputs": [
        {
          "data": {
            "text/plain": [
              "<Axes: xlabel='Layoff Date', ylabel='Count'>"
            ]
          },
          "execution_count": 115,
          "metadata": {},
          "output_type": "execute_result"
        },
        {
          "data": {
            "image/png": "[encoded data removed]",
            "text/plain": [
              "<Figure size 2500x600 with 1 Axes>"
            ]
          },
          "metadata": {},
          "output_type": "display_data"
        }
      ],
      "source": [
        "# Checking whether Layoff date have any significant effect on layoff status or not\n",
        "plt.subplots(1, 1, figsize = (25, 6))\n",
        "plt.subplot(1, 1, 1)\n",
        "sns.histplot(data = df[df['Laid Off'] == 1], x = df['Layoff Date'], bins = 30, kde = True)"
      ]
    },
    {
      "cell_type": "markdown",
      "metadata": {
        "id": "-KIq64ebaWn6"
      },
      "source": [
        "### Insight\n",
        "- Layoff date has no significant impact on layoff status"
      ]
    },
    {
      "cell_type": "code",
      "execution_count": 116,
      "metadata": {
        "id": "OGbwoSUvaWn7"
      },
      "outputs": [],
      "source": [
        "#Hence we will drop this column\n",
        "df.drop('Layoff Date', axis=1, inplace=True)"
      ]
    },
    {
      "cell_type": "code",
      "execution_count": 117,
      "metadata": {
        "colab": {
          "base_uri": "https://localhost:8080/",
          "height": 293
        },
        "id": "iQMo7s-SaWn8",
        "outputId": "c6dff6e6-dfd8-4f93-b9aa-150372c9c0ac"
      },
      "outputs": [
        {
          "data": {
            "text/html": [
              "<div>\n",
              "<style scoped>\n",
              "    .dataframe tbody tr th:only-of-type {\n",
              "        vertical-align: middle;\n",
              "    }\n",
              "\n",
              "    .dataframe tbody tr th {\n",
              "        vertical-align: top;\n",
              "    }\n",
              "\n",
              "    .dataframe thead th {\n",
              "        text-align: right;\n",
              "    }\n",
              "</style>\n",
              "<table border=\"1\" class=\"dataframe\">\n",
              "  <thead>\n",
              "    <tr style=\"text-align: right;\">\n",
              "      <th></th>\n",
              "      <th>Employee ID</th>\n",
              "      <th>Department</th>\n",
              "      <th>Job Title</th>\n",
              "      <th>Years of Experience</th>\n",
              "      <th>Age Range</th>\n",
              "      <th>Location</th>\n",
              "      <th>Laid Off</th>\n",
              "      <th>Layoff Reason</th>\n",
              "      <th>Severance Package</th>\n",
              "      <th>Promotion</th>\n",
              "      <th>Transfer</th>\n",
              "    </tr>\n",
              "  </thead>\n",
              "  <tbody>\n",
              "    <tr>\n",
              "      <th>0</th>\n",
              "      <td>EMP_0001</td>\n",
              "      <td>Engineering</td>\n",
              "      <td>Software Engineer</td>\n",
              "      <td>5</td>\n",
              "      <td>25.0</td>\n",
              "      <td>San Francisco Bay Area</td>\n",
              "      <td>0</td>\n",
              "      <td>Promotion</td>\n",
              "      <td>Yes</td>\n",
              "      <td>NaN</td>\n",
              "      <td>NaN</td>\n",
              "    </tr>\n",
              "    <tr>\n",
              "      <th>1</th>\n",
              "      <td>EMP_0002</td>\n",
              "      <td>Marketing</td>\n",
              "      <td>Marketing Manager</td>\n",
              "      <td>10</td>\n",
              "      <td>35.0</td>\n",
              "      <td>New York City</td>\n",
              "      <td>0</td>\n",
              "      <td>Promotion</td>\n",
              "      <td>No</td>\n",
              "      <td>NaN</td>\n",
              "      <td>NaN</td>\n",
              "    </tr>\n",
              "    <tr>\n",
              "      <th>2</th>\n",
              "      <td>EMP_0003</td>\n",
              "      <td>Sales</td>\n",
              "      <td>Sales Associate</td>\n",
              "      <td>2</td>\n",
              "      <td>25.0</td>\n",
              "      <td>London</td>\n",
              "      <td>0</td>\n",
              "      <td>No</td>\n",
              "      <td>No</td>\n",
              "      <td>NaN</td>\n",
              "      <td>NaN</td>\n",
              "    </tr>\n",
              "    <tr>\n",
              "      <th>3</th>\n",
              "      <td>EMP_0004</td>\n",
              "      <td>IT</td>\n",
              "      <td>Network Administrator</td>\n",
              "      <td>15</td>\n",
              "      <td>45.0</td>\n",
              "      <td>Remote</td>\n",
              "      <td>1</td>\n",
              "      <td>Restructuring</td>\n",
              "      <td>Yes</td>\n",
              "      <td>NaN</td>\n",
              "      <td>NaN</td>\n",
              "    </tr>\n",
              "    <tr>\n",
              "      <th>4</th>\n",
              "      <td>EMP_0005</td>\n",
              "      <td>Engineering</td>\n",
              "      <td>Data Scientist</td>\n",
              "      <td>8</td>\n",
              "      <td>35.0</td>\n",
              "      <td>San Francisco Bay Area</td>\n",
              "      <td>0</td>\n",
              "      <td>No</td>\n",
              "      <td>No</td>\n",
              "      <td>NaN</td>\n",
              "      <td>NaN</td>\n",
              "    </tr>\n",
              "  </tbody>\n",
              "</table>\n",
              "</div>"
            ],
            "text/plain": [
              "  Employee ID   Department              Job Title  Years of Experience  \\\n",
              "0    EMP_0001  Engineering      Software Engineer                    5   \n",
              "1    EMP_0002    Marketing      Marketing Manager                   10   \n",
              "2    EMP_0003        Sales        Sales Associate                    2   \n",
              "3    EMP_0004           IT  Network Administrator                   15   \n",
              "4    EMP_0005  Engineering         Data Scientist                    8   \n",
              "\n",
              "   Age Range                Location  Laid Off  Layoff Reason  \\\n",
              "0       25.0  San Francisco Bay Area         0      Promotion   \n",
              "1       35.0           New York City         0      Promotion   \n",
              "2       25.0                  London         0             No   \n",
              "3       45.0                  Remote         1  Restructuring   \n",
              "4       35.0  San Francisco Bay Area         0             No   \n",
              "\n",
              "  Severance Package Promotion Transfer  \n",
              "0               Yes       NaN      NaN  \n",
              "1                No       NaN      NaN  \n",
              "2                No       NaN      NaN  \n",
              "3               Yes       NaN      NaN  \n",
              "4                No       NaN      NaN  "
            ]
          },
          "execution_count": 117,
          "metadata": {},
          "output_type": "execute_result"
        }
      ],
      "source": [
        "df.head()"
      ]
    },
    {
      "cell_type": "code",
      "execution_count": 118,
      "metadata": {
        "colab": {
          "base_uri": "https://localhost:8080/"
        },
        "id": "ZOdC6t_8aWn8",
        "outputId": "a0e84ea4-052e-480b-b4e7-cb1f21958fb0"
      },
      "outputs": [
        {
          "data": {
            "text/plain": [
              "array(['San Francisco Bay Area', 'New York City', 'London', 'Remote', nan,\n",
              "       'Location'], dtype=object)"
            ]
          },
          "execution_count": 118,
          "metadata": {},
          "output_type": "execute_result"
        }
      ],
      "source": [
        "# Change the location\n",
        "df['Location'].unique()"
      ]
    },
    {
      "cell_type": "code",
      "execution_count": 119,
      "metadata": {
        "id": "rFp66wfiaWn8"
      },
      "outputs": [],
      "source": [
        "df['Location'] = df['Location'].fillna(df['Location'].mode()[0])"
      ]
    },
    {
      "cell_type": "code",
      "execution_count": 120,
      "metadata": {
        "colab": {
          "base_uri": "https://localhost:8080/"
        },
        "id": "qHVqsxOhaWn9",
        "outputId": "2c3e796b-109f-4fc6-a45d-d60176cc2754"
      },
      "outputs": [
        {
          "data": {
            "text/plain": [
              "London                    49\n",
              "New York City             48\n",
              "Remote                    44\n",
              "San Francisco Bay Area    43\n",
              "Location                   1\n",
              "Name: Location, dtype: int64"
            ]
          },
          "execution_count": 120,
          "metadata": {},
          "output_type": "execute_result"
        }
      ],
      "source": [
        "df['Location'].value_counts()"
      ]
    },
    {
      "cell_type": "code",
      "execution_count": 121,
      "metadata": {
        "id": "50F8eskoaWn9"
      },
      "outputs": [],
      "source": [
        "df.loc[df['Location'] == 'Location', 'Location'] = 'Remote'\n"
      ]
    },
    {
      "cell_type": "code",
      "execution_count": 122,
      "metadata": {
        "id": "HZuJ-YJuaWn9"
      },
      "outputs": [],
      "source": [
        "df.loc[df['Location'] == 'London', 'Location'] = 'Mumbai'\n",
        "df.loc[df['Location'] == 'New York City', 'Location'] = 'Hyderabad'\n",
        "df.loc[df['Location'] == 'San Francisco Bay Area', 'Location'] = 'Bangalore'"
      ]
    },
    {
      "cell_type": "code",
      "execution_count": 123,
      "metadata": {
        "colab": {
          "base_uri": "https://localhost:8080/",
          "height": 276
        },
        "id": "75VniRDOaWn9",
        "outputId": "ca5cc53c-0559-41cd-a76a-c4c697f4a3a3"
      },
      "outputs": [
        {
          "data": {
            "text/html": [
              "<div>\n",
              "<style scoped>\n",
              "    .dataframe tbody tr th:only-of-type {\n",
              "        vertical-align: middle;\n",
              "    }\n",
              "\n",
              "    .dataframe tbody tr th {\n",
              "        vertical-align: top;\n",
              "    }\n",
              "\n",
              "    .dataframe thead th {\n",
              "        text-align: right;\n",
              "    }\n",
              "</style>\n",
              "<table border=\"1\" class=\"dataframe\">\n",
              "  <thead>\n",
              "    <tr style=\"text-align: right;\">\n",
              "      <th></th>\n",
              "      <th>Employee ID</th>\n",
              "      <th>Department</th>\n",
              "      <th>Job Title</th>\n",
              "      <th>Years of Experience</th>\n",
              "      <th>Age Range</th>\n",
              "      <th>Location</th>\n",
              "      <th>Laid Off</th>\n",
              "      <th>Layoff Reason</th>\n",
              "      <th>Severance Package</th>\n",
              "      <th>Promotion</th>\n",
              "      <th>Transfer</th>\n",
              "    </tr>\n",
              "  </thead>\n",
              "  <tbody>\n",
              "    <tr>\n",
              "      <th>0</th>\n",
              "      <td>EMP_0001</td>\n",
              "      <td>Engineering</td>\n",
              "      <td>Software Engineer</td>\n",
              "      <td>5</td>\n",
              "      <td>25.0</td>\n",
              "      <td>Bangalore</td>\n",
              "      <td>0</td>\n",
              "      <td>Promotion</td>\n",
              "      <td>Yes</td>\n",
              "      <td>NaN</td>\n",
              "      <td>NaN</td>\n",
              "    </tr>\n",
              "    <tr>\n",
              "      <th>1</th>\n",
              "      <td>EMP_0002</td>\n",
              "      <td>Marketing</td>\n",
              "      <td>Marketing Manager</td>\n",
              "      <td>10</td>\n",
              "      <td>35.0</td>\n",
              "      <td>Hyderabad</td>\n",
              "      <td>0</td>\n",
              "      <td>Promotion</td>\n",
              "      <td>No</td>\n",
              "      <td>NaN</td>\n",
              "      <td>NaN</td>\n",
              "    </tr>\n",
              "    <tr>\n",
              "      <th>2</th>\n",
              "      <td>EMP_0003</td>\n",
              "      <td>Sales</td>\n",
              "      <td>Sales Associate</td>\n",
              "      <td>2</td>\n",
              "      <td>25.0</td>\n",
              "      <td>Mumbai</td>\n",
              "      <td>0</td>\n",
              "      <td>No</td>\n",
              "      <td>No</td>\n",
              "      <td>NaN</td>\n",
              "      <td>NaN</td>\n",
              "    </tr>\n",
              "    <tr>\n",
              "      <th>3</th>\n",
              "      <td>EMP_0004</td>\n",
              "      <td>IT</td>\n",
              "      <td>Network Administrator</td>\n",
              "      <td>15</td>\n",
              "      <td>45.0</td>\n",
              "      <td>Remote</td>\n",
              "      <td>1</td>\n",
              "      <td>Restructuring</td>\n",
              "      <td>Yes</td>\n",
              "      <td>NaN</td>\n",
              "      <td>NaN</td>\n",
              "    </tr>\n",
              "    <tr>\n",
              "      <th>4</th>\n",
              "      <td>EMP_0005</td>\n",
              "      <td>Engineering</td>\n",
              "      <td>Data Scientist</td>\n",
              "      <td>8</td>\n",
              "      <td>35.0</td>\n",
              "      <td>Bangalore</td>\n",
              "      <td>0</td>\n",
              "      <td>No</td>\n",
              "      <td>No</td>\n",
              "      <td>NaN</td>\n",
              "      <td>NaN</td>\n",
              "    </tr>\n",
              "  </tbody>\n",
              "</table>\n",
              "</div>"
            ],
            "text/plain": [
              "  Employee ID   Department              Job Title  Years of Experience  \\\n",
              "0    EMP_0001  Engineering      Software Engineer                    5   \n",
              "1    EMP_0002    Marketing      Marketing Manager                   10   \n",
              "2    EMP_0003        Sales        Sales Associate                    2   \n",
              "3    EMP_0004           IT  Network Administrator                   15   \n",
              "4    EMP_0005  Engineering         Data Scientist                    8   \n",
              "\n",
              "   Age Range   Location  Laid Off  Layoff Reason Severance Package Promotion  \\\n",
              "0       25.0  Bangalore         0      Promotion               Yes       NaN   \n",
              "1       35.0  Hyderabad         0      Promotion                No       NaN   \n",
              "2       25.0     Mumbai         0             No                No       NaN   \n",
              "3       45.0     Remote         1  Restructuring               Yes       NaN   \n",
              "4       35.0  Bangalore         0             No                No       NaN   \n",
              "\n",
              "  Transfer  \n",
              "0      NaN  \n",
              "1      NaN  \n",
              "2      NaN  \n",
              "3      NaN  \n",
              "4      NaN  "
            ]
          },
          "execution_count": 123,
          "metadata": {},
          "output_type": "execute_result"
        }
      ],
      "source": [
        "df.head()"
      ]
    },
    {
      "cell_type": "code",
      "execution_count": 124,
      "metadata": {
        "colab": {
          "base_uri": "https://localhost:8080/",
          "height": 534
        },
        "id": "EJZldx0UaWn-",
        "outputId": "d84bc463-a622-4d8d-938f-1105131c305f"
      },
      "outputs": [
        {
          "data": {
            "image/png": "[encoded data removed]",
            "text/plain": [
              "<Figure size 640x480 with 1 Axes>"
            ]
          },
          "metadata": {},
          "output_type": "display_data"
        }
      ],
      "source": [
        "cross_tab = pd.crosstab(df['Location'], df['Laid Off'])\n",
        "\n",
        "# Plot stacked bar plot\n",
        "cross_tab.plot(kind='bar', stacked=True)\n",
        "plt.xlabel('Location')\n",
        "plt.ylabel('Count')\n",
        "plt.title('Laid Off Status by Location')\n",
        "plt.legend(title='Laid Off')\n",
        "plt.show()"
      ]
    },
    {
      "cell_type": "code",
      "execution_count": 125,
      "metadata": {
        "colab": {
          "base_uri": "https://localhost:8080/"
        },
        "id": "a69R5JGFaWn-",
        "outputId": "0259dd5f-78eb-4d14-c0fb-92836830b217"
      },
      "outputs": [
        {
          "data": {
            "text/plain": [
              "array(['Yes', 'No', nan, 'True', 'None', 'False', 'Severance Package'],\n",
              "      dtype=object)"
            ]
          },
          "execution_count": 125,
          "metadata": {},
          "output_type": "execute_result"
        }
      ],
      "source": [
        "df['Severance Package'].unique()"
      ]
    },
    {
      "cell_type": "code",
      "execution_count": 126,
      "metadata": {
        "id": "noQSV-AsaWn_"
      },
      "outputs": [],
      "source": [
        "df.loc[df['Severance Package'] == 'True', 'Severance Package'] = 'Yes'\n",
        "df.loc[df['Severance Package'] == 'False', 'Severance Package'] = 'No'\n",
        "df.loc[df['Severance Package'] == 'Severance Package', 'Severance Package'] = 'Yes'\n",
        "df.loc[df['Severance Package'] == 'None', 'Severance Package'] = 'No'"
      ]
    },
    {
      "cell_type": "code",
      "execution_count": 127,
      "metadata": {
        "colab": {
          "base_uri": "https://localhost:8080/"
        },
        "id": "nLcQ46gLaWoF",
        "outputId": "924c932e-9a43-4b8c-feaa-9b84fefc76c7"
      },
      "outputs": [
        {
          "data": {
            "text/plain": [
              "No     113\n",
              "Yes     68\n",
              "Name: Severance Package, dtype: int64"
            ]
          },
          "execution_count": 127,
          "metadata": {},
          "output_type": "execute_result"
        }
      ],
      "source": [
        "df['Severance Package'].value_counts()"
      ]
    },
    {
      "cell_type": "code",
      "execution_count": 128,
      "metadata": {
        "id": "TKO45v9FaWoF"
      },
      "outputs": [],
      "source": [
        "df['Severance Package'] = df['Severance Package'].fillna(df['Severance Package'].mode()[0])"
      ]
    },
    {
      "cell_type": "code",
      "execution_count": 129,
      "metadata": {
        "colab": {
          "base_uri": "https://localhost:8080/"
        },
        "id": "j7i6WjiAaWoG",
        "outputId": "74f94929-9978-42bf-b2d0-4a415176f6ee"
      },
      "outputs": [
        {
          "data": {
            "text/plain": [
              "0    136\n",
              "1     49\n",
              "Name: Laid Off, dtype: int64"
            ]
          },
          "execution_count": 129,
          "metadata": {},
          "output_type": "execute_result"
        }
      ],
      "source": [
        "df['Laid Off'].value_counts()"
      ]
    },
    {
      "cell_type": "code",
      "execution_count": 130,
      "metadata": {
        "colab": {
          "base_uri": "https://localhost:8080/",
          "height": 480
        },
        "id": "DLYHSIApaWoG",
        "outputId": "be8ee3fe-6600-4c09-d435-658ae83a9f23"
      },
      "outputs": [
        {
          "data": {
            "image/png": "[encoded data removed]",
            "text/plain": [
              "<Figure size 640x480 with 1 Axes>"
            ]
          },
          "metadata": {},
          "output_type": "display_data"
        }
      ],
      "source": [
        "cross_tab = pd.crosstab(df['Severance Package'], df['Laid Off'])\n",
        "\n",
        "# Plot stacked bar plot\n",
        "cross_tab.plot(kind='bar', stacked=True)\n",
        "plt.xlabel('Severance Package')\n",
        "plt.ylabel('Count')\n",
        "plt.title('Laid Off Status by Severance Package')\n",
        "plt.legend(title='Laid Off')\n",
        "plt.show()"
      ]
    },
    {
      "cell_type": "code",
      "execution_count": 131,
      "metadata": {
        "colab": {
          "base_uri": "https://localhost:8080/",
          "height": 276
        },
        "id": "HXjvRVd7aWoG",
        "outputId": "8e189467-610d-47e5-ca8e-3a70f7b91ac8"
      },
      "outputs": [
        {
          "data": {
            "text/html": [
              "<div>\n",
              "<style scoped>\n",
              "    .dataframe tbody tr th:only-of-type {\n",
              "        vertical-align: middle;\n",
              "    }\n",
              "\n",
              "    .dataframe tbody tr th {\n",
              "        vertical-align: top;\n",
              "    }\n",
              "\n",
              "    .dataframe thead th {\n",
              "        text-align: right;\n",
              "    }\n",
              "</style>\n",
              "<table border=\"1\" class=\"dataframe\">\n",
              "  <thead>\n",
              "    <tr style=\"text-align: right;\">\n",
              "      <th></th>\n",
              "      <th>Employee ID</th>\n",
              "      <th>Department</th>\n",
              "      <th>Job Title</th>\n",
              "      <th>Years of Experience</th>\n",
              "      <th>Age Range</th>\n",
              "      <th>Location</th>\n",
              "      <th>Laid Off</th>\n",
              "      <th>Layoff Reason</th>\n",
              "      <th>Severance Package</th>\n",
              "      <th>Promotion</th>\n",
              "      <th>Transfer</th>\n",
              "    </tr>\n",
              "  </thead>\n",
              "  <tbody>\n",
              "    <tr>\n",
              "      <th>0</th>\n",
              "      <td>EMP_0001</td>\n",
              "      <td>Engineering</td>\n",
              "      <td>Software Engineer</td>\n",
              "      <td>5</td>\n",
              "      <td>25.0</td>\n",
              "      <td>Bangalore</td>\n",
              "      <td>0</td>\n",
              "      <td>Promotion</td>\n",
              "      <td>Yes</td>\n",
              "      <td>NaN</td>\n",
              "      <td>NaN</td>\n",
              "    </tr>\n",
              "    <tr>\n",
              "      <th>1</th>\n",
              "      <td>EMP_0002</td>\n",
              "      <td>Marketing</td>\n",
              "      <td>Marketing Manager</td>\n",
              "      <td>10</td>\n",
              "      <td>35.0</td>\n",
              "      <td>Hyderabad</td>\n",
              "      <td>0</td>\n",
              "      <td>Promotion</td>\n",
              "      <td>No</td>\n",
              "      <td>NaN</td>\n",
              "      <td>NaN</td>\n",
              "    </tr>\n",
              "    <tr>\n",
              "      <th>2</th>\n",
              "      <td>EMP_0003</td>\n",
              "      <td>Sales</td>\n",
              "      <td>Sales Associate</td>\n",
              "      <td>2</td>\n",
              "      <td>25.0</td>\n",
              "      <td>Mumbai</td>\n",
              "      <td>0</td>\n",
              "      <td>No</td>\n",
              "      <td>No</td>\n",
              "      <td>NaN</td>\n",
              "      <td>NaN</td>\n",
              "    </tr>\n",
              "    <tr>\n",
              "      <th>3</th>\n",
              "      <td>EMP_0004</td>\n",
              "      <td>IT</td>\n",
              "      <td>Network Administrator</td>\n",
              "      <td>15</td>\n",
              "      <td>45.0</td>\n",
              "      <td>Remote</td>\n",
              "      <td>1</td>\n",
              "      <td>Restructuring</td>\n",
              "      <td>Yes</td>\n",
              "      <td>NaN</td>\n",
              "      <td>NaN</td>\n",
              "    </tr>\n",
              "    <tr>\n",
              "      <th>4</th>\n",
              "      <td>EMP_0005</td>\n",
              "      <td>Engineering</td>\n",
              "      <td>Data Scientist</td>\n",
              "      <td>8</td>\n",
              "      <td>35.0</td>\n",
              "      <td>Bangalore</td>\n",
              "      <td>0</td>\n",
              "      <td>No</td>\n",
              "      <td>No</td>\n",
              "      <td>NaN</td>\n",
              "      <td>NaN</td>\n",
              "    </tr>\n",
              "  </tbody>\n",
              "</table>\n",
              "</div>"
            ],
            "text/plain": [
              "  Employee ID   Department              Job Title  Years of Experience  \\\n",
              "0    EMP_0001  Engineering      Software Engineer                    5   \n",
              "1    EMP_0002    Marketing      Marketing Manager                   10   \n",
              "2    EMP_0003        Sales        Sales Associate                    2   \n",
              "3    EMP_0004           IT  Network Administrator                   15   \n",
              "4    EMP_0005  Engineering         Data Scientist                    8   \n",
              "\n",
              "   Age Range   Location  Laid Off  Layoff Reason Severance Package Promotion  \\\n",
              "0       25.0  Bangalore         0      Promotion               Yes       NaN   \n",
              "1       35.0  Hyderabad         0      Promotion                No       NaN   \n",
              "2       25.0     Mumbai         0             No                No       NaN   \n",
              "3       45.0     Remote         1  Restructuring               Yes       NaN   \n",
              "4       35.0  Bangalore         0             No                No       NaN   \n",
              "\n",
              "  Transfer  \n",
              "0      NaN  \n",
              "1      NaN  \n",
              "2      NaN  \n",
              "3      NaN  \n",
              "4      NaN  "
            ]
          },
          "execution_count": 131,
          "metadata": {},
          "output_type": "execute_result"
        }
      ],
      "source": [
        "df.head()"
      ]
    },
    {
      "cell_type": "code",
      "execution_count": 132,
      "metadata": {
        "colab": {
          "base_uri": "https://localhost:8080/"
        },
        "id": "7cOLyQ2taWoH",
        "outputId": "a8ea4a9f-be5c-4be1-d1ab-2f0f47ccc1f3"
      },
      "outputs": [
        {
          "data": {
            "text/plain": [
              "array([nan, 'True', 'False', 'Promotion'], dtype=object)"
            ]
          },
          "execution_count": 132,
          "metadata": {},
          "output_type": "execute_result"
        }
      ],
      "source": [
        "df['Promotion'].unique()"
      ]
    },
    {
      "cell_type": "code",
      "execution_count": 133,
      "metadata": {
        "id": "UaQDxw5oaWoH"
      },
      "outputs": [],
      "source": [
        "df.loc[df['Promotion'] == 'Promotion', 'Promotion'] = 'True'"
      ]
    },
    {
      "cell_type": "code",
      "execution_count": 134,
      "metadata": {
        "id": "oxVlOiN8aWoH"
      },
      "outputs": [],
      "source": [
        "df['Promotion'] = df['Promotion'].fillna(df[df['Promotion'] != np.nan]['Promotion'].mode()[0])"
      ]
    },
    {
      "cell_type": "code",
      "execution_count": 135,
      "metadata": {
        "colab": {
          "base_uri": "https://localhost:8080/"
        },
        "id": "QD2WgoRXaWoH",
        "outputId": "d882b51d-668f-4533-ff63-bbadc8ac4402"
      },
      "outputs": [
        {
          "data": {
            "text/plain": [
              "False    154\n",
              "True      31\n",
              "Name: Promotion, dtype: int64"
            ]
          },
          "execution_count": 135,
          "metadata": {},
          "output_type": "execute_result"
        }
      ],
      "source": [
        "df['Promotion'].value_counts()"
      ]
    },
    {
      "cell_type": "code",
      "execution_count": 136,
      "metadata": {
        "id": "YZFw_LofaWoI"
      },
      "outputs": [],
      "source": [
        "df.drop('Transfer', axis = 1, inplace = True)"
      ]
    },
    {
      "cell_type": "code",
      "execution_count": 137,
      "metadata": {
        "colab": {
          "base_uri": "https://localhost:8080/",
          "height": 241
        },
        "id": "c__WlSNWaWoI",
        "outputId": "8eb597f1-cd1a-439a-98da-72f69b4795d9"
      },
      "outputs": [
        {
          "data": {
            "text/html": [
              "<div>\n",
              "<style scoped>\n",
              "    .dataframe tbody tr th:only-of-type {\n",
              "        vertical-align: middle;\n",
              "    }\n",
              "\n",
              "    .dataframe tbody tr th {\n",
              "        vertical-align: top;\n",
              "    }\n",
              "\n",
              "    .dataframe thead th {\n",
              "        text-align: right;\n",
              "    }\n",
              "</style>\n",
              "<table border=\"1\" class=\"dataframe\">\n",
              "  <thead>\n",
              "    <tr style=\"text-align: right;\">\n",
              "      <th></th>\n",
              "      <th>Employee ID</th>\n",
              "      <th>Department</th>\n",
              "      <th>Job Title</th>\n",
              "      <th>Years of Experience</th>\n",
              "      <th>Age Range</th>\n",
              "      <th>Location</th>\n",
              "      <th>Laid Off</th>\n",
              "      <th>Layoff Reason</th>\n",
              "      <th>Severance Package</th>\n",
              "      <th>Promotion</th>\n",
              "    </tr>\n",
              "  </thead>\n",
              "  <tbody>\n",
              "    <tr>\n",
              "      <th>0</th>\n",
              "      <td>EMP_0001</td>\n",
              "      <td>Engineering</td>\n",
              "      <td>Software Engineer</td>\n",
              "      <td>5</td>\n",
              "      <td>25.0</td>\n",
              "      <td>Bangalore</td>\n",
              "      <td>0</td>\n",
              "      <td>Promotion</td>\n",
              "      <td>Yes</td>\n",
              "      <td>False</td>\n",
              "    </tr>\n",
              "    <tr>\n",
              "      <th>1</th>\n",
              "      <td>EMP_0002</td>\n",
              "      <td>Marketing</td>\n",
              "      <td>Marketing Manager</td>\n",
              "      <td>10</td>\n",
              "      <td>35.0</td>\n",
              "      <td>Hyderabad</td>\n",
              "      <td>0</td>\n",
              "      <td>Promotion</td>\n",
              "      <td>No</td>\n",
              "      <td>False</td>\n",
              "    </tr>\n",
              "    <tr>\n",
              "      <th>2</th>\n",
              "      <td>EMP_0003</td>\n",
              "      <td>Sales</td>\n",
              "      <td>Sales Associate</td>\n",
              "      <td>2</td>\n",
              "      <td>25.0</td>\n",
              "      <td>Mumbai</td>\n",
              "      <td>0</td>\n",
              "      <td>No</td>\n",
              "      <td>No</td>\n",
              "      <td>False</td>\n",
              "    </tr>\n",
              "    <tr>\n",
              "      <th>3</th>\n",
              "      <td>EMP_0004</td>\n",
              "      <td>IT</td>\n",
              "      <td>Network Administrator</td>\n",
              "      <td>15</td>\n",
              "      <td>45.0</td>\n",
              "      <td>Remote</td>\n",
              "      <td>1</td>\n",
              "      <td>Restructuring</td>\n",
              "      <td>Yes</td>\n",
              "      <td>False</td>\n",
              "    </tr>\n",
              "    <tr>\n",
              "      <th>4</th>\n",
              "      <td>EMP_0005</td>\n",
              "      <td>Engineering</td>\n",
              "      <td>Data Scientist</td>\n",
              "      <td>8</td>\n",
              "      <td>35.0</td>\n",
              "      <td>Bangalore</td>\n",
              "      <td>0</td>\n",
              "      <td>No</td>\n",
              "      <td>No</td>\n",
              "      <td>False</td>\n",
              "    </tr>\n",
              "  </tbody>\n",
              "</table>\n",
              "</div>"
            ],
            "text/plain": [
              "  Employee ID   Department              Job Title  Years of Experience  \\\n",
              "0    EMP_0001  Engineering      Software Engineer                    5   \n",
              "1    EMP_0002    Marketing      Marketing Manager                   10   \n",
              "2    EMP_0003        Sales        Sales Associate                    2   \n",
              "3    EMP_0004           IT  Network Administrator                   15   \n",
              "4    EMP_0005  Engineering         Data Scientist                    8   \n",
              "\n",
              "   Age Range   Location  Laid Off  Layoff Reason Severance Package Promotion  \n",
              "0       25.0  Bangalore         0      Promotion               Yes     False  \n",
              "1       35.0  Hyderabad         0      Promotion                No     False  \n",
              "2       25.0     Mumbai         0             No                No     False  \n",
              "3       45.0     Remote         1  Restructuring               Yes     False  \n",
              "4       35.0  Bangalore         0             No                No     False  "
            ]
          },
          "execution_count": 137,
          "metadata": {},
          "output_type": "execute_result"
        }
      ],
      "source": [
        "df.head()"
      ]
    },
    {
      "cell_type": "code",
      "execution_count": 138,
      "metadata": {
        "id": "FGAdH3Fza9jc"
      },
      "outputs": [],
      "source": [
        "df['Severance Package'] = df['Severance Package'].map({'Yes' : 1, 'No' : 0})\n",
        "df['Promotion'] = df['Promotion'].map({'False' : 0, 'True' : 1})"
      ]
    },
    {
      "cell_type": "code",
      "execution_count": 139,
      "metadata": {
        "colab": {
          "base_uri": "https://localhost:8080/",
          "height": 241
        },
        "id": "wDgO7SHXbQze",
        "outputId": "46385a84-4491-4290-faa8-46e3abafb466"
      },
      "outputs": [
        {
          "data": {
            "text/html": [
              "<div>\n",
              "<style scoped>\n",
              "    .dataframe tbody tr th:only-of-type {\n",
              "        vertical-align: middle;\n",
              "    }\n",
              "\n",
              "    .dataframe tbody tr th {\n",
              "        vertical-align: top;\n",
              "    }\n",
              "\n",
              "    .dataframe thead th {\n",
              "        text-align: right;\n",
              "    }\n",
              "</style>\n",
              "<table border=\"1\" class=\"dataframe\">\n",
              "  <thead>\n",
              "    <tr style=\"text-align: right;\">\n",
              "      <th></th>\n",
              "      <th>Employee ID</th>\n",
              "      <th>Department</th>\n",
              "      <th>Job Title</th>\n",
              "      <th>Years of Experience</th>\n",
              "      <th>Age Range</th>\n",
              "      <th>Location</th>\n",
              "      <th>Laid Off</th>\n",
              "      <th>Layoff Reason</th>\n",
              "      <th>Severance Package</th>\n",
              "      <th>Promotion</th>\n",
              "    </tr>\n",
              "  </thead>\n",
              "  <tbody>\n",
              "    <tr>\n",
              "      <th>0</th>\n",
              "      <td>EMP_0001</td>\n",
              "      <td>Engineering</td>\n",
              "      <td>Software Engineer</td>\n",
              "      <td>5</td>\n",
              "      <td>25.0</td>\n",
              "      <td>Bangalore</td>\n",
              "      <td>0</td>\n",
              "      <td>Promotion</td>\n",
              "      <td>1</td>\n",
              "      <td>0</td>\n",
              "    </tr>\n",
              "    <tr>\n",
              "      <th>1</th>\n",
              "      <td>EMP_0002</td>\n",
              "      <td>Marketing</td>\n",
              "      <td>Marketing Manager</td>\n",
              "      <td>10</td>\n",
              "      <td>35.0</td>\n",
              "      <td>Hyderabad</td>\n",
              "      <td>0</td>\n",
              "      <td>Promotion</td>\n",
              "      <td>0</td>\n",
              "      <td>0</td>\n",
              "    </tr>\n",
              "    <tr>\n",
              "      <th>2</th>\n",
              "      <td>EMP_0003</td>\n",
              "      <td>Sales</td>\n",
              "      <td>Sales Associate</td>\n",
              "      <td>2</td>\n",
              "      <td>25.0</td>\n",
              "      <td>Mumbai</td>\n",
              "      <td>0</td>\n",
              "      <td>No</td>\n",
              "      <td>0</td>\n",
              "      <td>0</td>\n",
              "    </tr>\n",
              "    <tr>\n",
              "      <th>3</th>\n",
              "      <td>EMP_0004</td>\n",
              "      <td>IT</td>\n",
              "      <td>Network Administrator</td>\n",
              "      <td>15</td>\n",
              "      <td>45.0</td>\n",
              "      <td>Remote</td>\n",
              "      <td>1</td>\n",
              "      <td>Restructuring</td>\n",
              "      <td>1</td>\n",
              "      <td>0</td>\n",
              "    </tr>\n",
              "    <tr>\n",
              "      <th>4</th>\n",
              "      <td>EMP_0005</td>\n",
              "      <td>Engineering</td>\n",
              "      <td>Data Scientist</td>\n",
              "      <td>8</td>\n",
              "      <td>35.0</td>\n",
              "      <td>Bangalore</td>\n",
              "      <td>0</td>\n",
              "      <td>No</td>\n",
              "      <td>0</td>\n",
              "      <td>0</td>\n",
              "    </tr>\n",
              "  </tbody>\n",
              "</table>\n",
              "</div>"
            ],
            "text/plain": [
              "  Employee ID   Department              Job Title  Years of Experience  \\\n",
              "0    EMP_0001  Engineering      Software Engineer                    5   \n",
              "1    EMP_0002    Marketing      Marketing Manager                   10   \n",
              "2    EMP_0003        Sales        Sales Associate                    2   \n",
              "3    EMP_0004           IT  Network Administrator                   15   \n",
              "4    EMP_0005  Engineering         Data Scientist                    8   \n",
              "\n",
              "   Age Range   Location  Laid Off  Layoff Reason  Severance Package  Promotion  \n",
              "0       25.0  Bangalore         0      Promotion                  1          0  \n",
              "1       35.0  Hyderabad         0      Promotion                  0          0  \n",
              "2       25.0     Mumbai         0             No                  0          0  \n",
              "3       45.0     Remote         1  Restructuring                  1          0  \n",
              "4       35.0  Bangalore         0             No                  0          0  "
            ]
          },
          "execution_count": 139,
          "metadata": {},
          "output_type": "execute_result"
        }
      ],
      "source": [
        "df.head()"
      ]
    },
    {
      "cell_type": "code",
      "execution_count": 140,
      "metadata": {
        "id": "oLKpj649bXbC"
      },
      "outputs": [],
      "source": [
        "df.drop('Layoff Reason', axis=1, inplace = True)"
      ]
    },
    {
      "cell_type": "code",
      "execution_count": 141,
      "metadata": {
        "colab": {
          "base_uri": "https://localhost:8080/",
          "height": 206
        },
        "id": "iTXrwFLJbeGa",
        "outputId": "7ace5472-3f09-4ed6-8d82-315939f0c02a"
      },
      "outputs": [
        {
          "data": {
            "text/html": [
              "<div>\n",
              "<style scoped>\n",
              "    .dataframe tbody tr th:only-of-type {\n",
              "        vertical-align: middle;\n",
              "    }\n",
              "\n",
              "    .dataframe tbody tr th {\n",
              "        vertical-align: top;\n",
              "    }\n",
              "\n",
              "    .dataframe thead th {\n",
              "        text-align: right;\n",
              "    }\n",
              "</style>\n",
              "<table border=\"1\" class=\"dataframe\">\n",
              "  <thead>\n",
              "    <tr style=\"text-align: right;\">\n",
              "      <th></th>\n",
              "      <th>Employee ID</th>\n",
              "      <th>Department</th>\n",
              "      <th>Job Title</th>\n",
              "      <th>Years of Experience</th>\n",
              "      <th>Age Range</th>\n",
              "      <th>Location</th>\n",
              "      <th>Laid Off</th>\n",
              "      <th>Severance Package</th>\n",
              "      <th>Promotion</th>\n",
              "    </tr>\n",
              "  </thead>\n",
              "  <tbody>\n",
              "    <tr>\n",
              "      <th>0</th>\n",
              "      <td>EMP_0001</td>\n",
              "      <td>Engineering</td>\n",
              "      <td>Software Engineer</td>\n",
              "      <td>5</td>\n",
              "      <td>25.0</td>\n",
              "      <td>Bangalore</td>\n",
              "      <td>0</td>\n",
              "      <td>1</td>\n",
              "      <td>0</td>\n",
              "    </tr>\n",
              "    <tr>\n",
              "      <th>1</th>\n",
              "      <td>EMP_0002</td>\n",
              "      <td>Marketing</td>\n",
              "      <td>Marketing Manager</td>\n",
              "      <td>10</td>\n",
              "      <td>35.0</td>\n",
              "      <td>Hyderabad</td>\n",
              "      <td>0</td>\n",
              "      <td>0</td>\n",
              "      <td>0</td>\n",
              "    </tr>\n",
              "    <tr>\n",
              "      <th>2</th>\n",
              "      <td>EMP_0003</td>\n",
              "      <td>Sales</td>\n",
              "      <td>Sales Associate</td>\n",
              "      <td>2</td>\n",
              "      <td>25.0</td>\n",
              "      <td>Mumbai</td>\n",
              "      <td>0</td>\n",
              "      <td>0</td>\n",
              "      <td>0</td>\n",
              "    </tr>\n",
              "    <tr>\n",
              "      <th>3</th>\n",
              "      <td>EMP_0004</td>\n",
              "      <td>IT</td>\n",
              "      <td>Network Administrator</td>\n",
              "      <td>15</td>\n",
              "      <td>45.0</td>\n",
              "      <td>Remote</td>\n",
              "      <td>1</td>\n",
              "      <td>1</td>\n",
              "      <td>0</td>\n",
              "    </tr>\n",
              "    <tr>\n",
              "      <th>4</th>\n",
              "      <td>EMP_0005</td>\n",
              "      <td>Engineering</td>\n",
              "      <td>Data Scientist</td>\n",
              "      <td>8</td>\n",
              "      <td>35.0</td>\n",
              "      <td>Bangalore</td>\n",
              "      <td>0</td>\n",
              "      <td>0</td>\n",
              "      <td>0</td>\n",
              "    </tr>\n",
              "  </tbody>\n",
              "</table>\n",
              "</div>"
            ],
            "text/plain": [
              "  Employee ID   Department              Job Title  Years of Experience  \\\n",
              "0    EMP_0001  Engineering      Software Engineer                    5   \n",
              "1    EMP_0002    Marketing      Marketing Manager                   10   \n",
              "2    EMP_0003        Sales        Sales Associate                    2   \n",
              "3    EMP_0004           IT  Network Administrator                   15   \n",
              "4    EMP_0005  Engineering         Data Scientist                    8   \n",
              "\n",
              "   Age Range   Location  Laid Off  Severance Package  Promotion  \n",
              "0       25.0  Bangalore         0                  1          0  \n",
              "1       35.0  Hyderabad         0                  0          0  \n",
              "2       25.0     Mumbai         0                  0          0  \n",
              "3       45.0     Remote         1                  1          0  \n",
              "4       35.0  Bangalore         0                  0          0  "
            ]
          },
          "execution_count": 141,
          "metadata": {},
          "output_type": "execute_result"
        }
      ],
      "source": [
        "df.head()"
      ]
    },
    {
      "cell_type": "code",
      "execution_count": 142,
      "metadata": {
        "colab": {
          "base_uri": "https://localhost:8080/"
        },
        "id": "_BypclL5b7Ww",
        "outputId": "27fc0dca-1b21-4ef9-8f5b-50371a5060e9"
      },
      "outputs": [
        {
          "data": {
            "text/plain": [
              "array(['Engineering', 'Marketing', 'Sales', 'IT', 'Finance', 'Operations',\n",
              "       'Human Resources', 'Customer Service', 'Department'], dtype=object)"
            ]
          },
          "execution_count": 142,
          "metadata": {},
          "output_type": "execute_result"
        }
      ],
      "source": [
        "df['Department'].unique()"
      ]
    },
    {
      "cell_type": "code",
      "execution_count": 143,
      "metadata": {
        "colab": {
          "base_uri": "https://localhost:8080/"
        },
        "id": "Qh8MMzx6cNQa",
        "outputId": "56294385-72ee-4530-cc7a-77b23aa62193"
      },
      "outputs": [
        {
          "data": {
            "text/plain": [
              "Sales               30\n",
              "Engineering         28\n",
              "Marketing           28\n",
              "IT                  26\n",
              "Finance             21\n",
              "Operations          21\n",
              "Human Resources     16\n",
              "Customer Service    14\n",
              "Department           1\n",
              "Name: Department, dtype: int64"
            ]
          },
          "execution_count": 143,
          "metadata": {},
          "output_type": "execute_result"
        }
      ],
      "source": [
        "df['Department'].value_counts()"
      ]
    },
    {
      "cell_type": "code",
      "execution_count": 144,
      "metadata": {
        "id": "aG2L6Ih7cSLM"
      },
      "outputs": [],
      "source": [
        "df.loc[df['Department'] == 'Department', 'Department'] = 'Sales'"
      ]
    },
    {
      "cell_type": "code",
      "execution_count": 145,
      "metadata": {
        "colab": {
          "base_uri": "https://localhost:8080/"
        },
        "id": "5JCDEcrVcfhJ",
        "outputId": "f91b2a72-3abc-4885-be70-e74405c34f54"
      },
      "outputs": [
        {
          "data": {
            "text/plain": [
              "Sales               31\n",
              "Engineering         28\n",
              "Marketing           28\n",
              "IT                  26\n",
              "Finance             21\n",
              "Operations          21\n",
              "Human Resources     16\n",
              "Customer Service    14\n",
              "Name: Department, dtype: int64"
            ]
          },
          "execution_count": 145,
          "metadata": {},
          "output_type": "execute_result"
        }
      ],
      "source": [
        "df['Department'].value_counts()"
      ]
    },
    {
      "cell_type": "code",
      "execution_count": 146,
      "metadata": {
        "colab": {
          "base_uri": "https://localhost:8080/",
          "height": 112
        },
        "id": "KlAO4fWGcoe7",
        "outputId": "2969a7a7-90b9-4218-9c22-56b1b66b0415"
      },
      "outputs": [
        {
          "data": {
            "text/html": [
              "<div>\n",
              "<style scoped>\n",
              "    .dataframe tbody tr th:only-of-type {\n",
              "        vertical-align: middle;\n",
              "    }\n",
              "\n",
              "    .dataframe tbody tr th {\n",
              "        vertical-align: top;\n",
              "    }\n",
              "\n",
              "    .dataframe thead th {\n",
              "        text-align: right;\n",
              "    }\n",
              "</style>\n",
              "<table border=\"1\" class=\"dataframe\">\n",
              "  <thead>\n",
              "    <tr style=\"text-align: right;\">\n",
              "      <th></th>\n",
              "      <th>Employee ID</th>\n",
              "      <th>Department</th>\n",
              "      <th>Job Title</th>\n",
              "      <th>Years of Experience</th>\n",
              "      <th>Age Range</th>\n",
              "      <th>Location</th>\n",
              "      <th>Laid Off</th>\n",
              "      <th>Severance Package</th>\n",
              "      <th>Promotion</th>\n",
              "    </tr>\n",
              "  </thead>\n",
              "  <tbody>\n",
              "    <tr>\n",
              "      <th>0</th>\n",
              "      <td>EMP_0001</td>\n",
              "      <td>Engineering</td>\n",
              "      <td>Software Engineer</td>\n",
              "      <td>5</td>\n",
              "      <td>25.0</td>\n",
              "      <td>Bangalore</td>\n",
              "      <td>0</td>\n",
              "      <td>1</td>\n",
              "      <td>0</td>\n",
              "    </tr>\n",
              "    <tr>\n",
              "      <th>174</th>\n",
              "      <td>EMP_1390</td>\n",
              "      <td>Engineering</td>\n",
              "      <td>Software Engineer</td>\n",
              "      <td>2</td>\n",
              "      <td>25.0</td>\n",
              "      <td>Bangalore</td>\n",
              "      <td>0</td>\n",
              "      <td>0</td>\n",
              "      <td>0</td>\n",
              "    </tr>\n",
              "  </tbody>\n",
              "</table>\n",
              "</div>"
            ],
            "text/plain": [
              "    Employee ID   Department          Job Title  Years of Experience  \\\n",
              "0      EMP_0001  Engineering  Software Engineer                    5   \n",
              "174    EMP_1390  Engineering  Software Engineer                    2   \n",
              "\n",
              "     Age Range   Location  Laid Off  Severance Package  Promotion  \n",
              "0         25.0  Bangalore         0                  1          0  \n",
              "174       25.0  Bangalore         0                  0          0  "
            ]
          },
          "execution_count": 146,
          "metadata": {},
          "output_type": "execute_result"
        }
      ],
      "source": [
        "df[(df['Department'] == 'Engineering') & (df['Job Title'] == 'Software Engineer')]"
      ]
    },
    {
      "cell_type": "code",
      "execution_count": 147,
      "metadata": {
        "colab": {
          "base_uri": "https://localhost:8080/"
        },
        "id": "eSJWIcA0c7PX",
        "outputId": "fe18be62-67f7-4955-a83d-39a279f086e6"
      },
      "outputs": [
        {
          "data": {
            "text/plain": [
              "array(['Sales Associate', 'Account Executive',\n",
              "       'Business Development Representative', 'Regional Sales Manager',\n",
              "       'Account Manager', 'Sales Representative',\n",
              "       'Business Development Specialist', 'National Sales Manager',\n",
              "       'Sales Director', 'Inside Sales Representative',\n",
              "       'Business Analyst', 'Sales Engineer', 'Regional Sales Director',\n",
              "       'Sales Operations Manager', 'Business Development Manager',\n",
              "       'Content Creator', 'Investment Analyst', 'Job Title'], dtype=object)"
            ]
          },
          "execution_count": 147,
          "metadata": {},
          "output_type": "execute_result"
        }
      ],
      "source": [
        "df[df['Department'] == 'Sales']['Job Title'].unique()"
      ]
    },
    {
      "cell_type": "code",
      "execution_count": 148,
      "metadata": {
        "colab": {
          "base_uri": "https://localhost:8080/"
        },
        "id": "njPAKBXndNi-",
        "outputId": "56f5d40e-8d8c-40c8-aea5-3d06de894c8b"
      },
      "outputs": [
        {
          "data": {
            "text/plain": [
              "['Software Engineer',\n",
              " 'Data Scientist',\n",
              " 'Quality Assurance Engineer',\n",
              " 'Software Developer',\n",
              " 'UI/UX Designer',\n",
              " 'Machine Learning Engineer',\n",
              " 'Backend Engineer',\n",
              " 'Full Stack Developer',\n",
              " 'Software Architect',\n",
              " 'Data Engineer',\n",
              " 'Front-End Developer',\n",
              " 'DevOps Engineer',\n",
              " 'Product Manager',\n",
              " 'Software Development Manager',\n",
              " 'Inventory Specialist',\n",
              " 'Software Development Engineer']"
            ]
          },
          "execution_count": 148,
          "metadata": {},
          "output_type": "execute_result"
        }
      ],
      "source": [
        "list(df[df['Department'] == 'Engineering']['Job Title'].unique())"
      ]
    },
    {
      "cell_type": "code",
      "execution_count": 149,
      "metadata": {
        "id": "cyTVSfxbjcyD"
      },
      "outputs": [],
      "source": [
        "grouped = df.groupby('Department')['Job Title']"
      ]
    },
    {
      "cell_type": "code",
      "execution_count": 150,
      "metadata": {
        "colab": {
          "base_uri": "https://localhost:8080/"
        },
        "id": "JylDtOlhfjtg",
        "outputId": "ee69d4f5-c1b9-4a21-e406-c0c75629aeb9"
      },
      "outputs": [
        {
          "data": {
            "text/plain": [
              "Accountant                         9\n",
              "Software Engineer                  4\n",
              "Financial Analyst                  4\n",
              "Public Relations Specialist        4\n",
              "Supply Chain Analyst               4\n",
              "                                  ..\n",
              "DevOps Engineer                    1\n",
              "Brand Marketing Manager            1\n",
              "Sales Engineer                     1\n",
              "Business Development Specialist    1\n",
              "Software Development Engineer      1\n",
              "Name: Job Title, Length: 90, dtype: int64"
            ]
          },
          "execution_count": 150,
          "metadata": {},
          "output_type": "execute_result"
        }
      ],
      "source": [
        "df['Job Title'].value_counts()"
      ]
    },
    {
      "cell_type": "code",
      "execution_count": 151,
      "metadata": {
        "colab": {
          "base_uri": "https://localhost:8080/"
        },
        "id": "zQGi4r2lf6Sz",
        "outputId": "4cf513db-a2aa-4226-d72f-4ea44f7b7815"
      },
      "outputs": [
        {
          "data": {
            "text/plain": [
              "90"
            ]
          },
          "execution_count": 151,
          "metadata": {},
          "output_type": "execute_result"
        }
      ],
      "source": [
        "len(df['Job Title'].unique())"
      ]
    },
    {
      "cell_type": "code",
      "execution_count": 152,
      "metadata": {
        "colab": {
          "base_uri": "https://localhost:8080/",
          "height": 657
        },
        "id": "aauO5JKTnFVd",
        "outputId": "38eb16b5-4883-41fa-d2fd-223635bd93fa"
      },
      "outputs": [
        {
          "data": {
            "image/png": "[encoded data removed]",
            "text/plain": [
              "<Figure size 640x480 with 1 Axes>"
            ]
          },
          "metadata": {},
          "output_type": "display_data"
        }
      ],
      "source": [
        "\n",
        "# Group by 'Job_Title' and calculate the mean of 'Laid_Off'\n",
        "job_title_laid_off_mean = df.groupby('Job Title')['Laid Off'].mean()\n",
        "\n",
        "# Plot the data\n",
        "job_title_laid_off_mean.plot(kind='bar')\n",
        "plt.title('Effect of Job Title on Laid Off')\n",
        "plt.xlabel('Job Title')\n",
        "plt.ylabel('Proportion of Laid Off Employees')\n",
        "plt.xticks(rotation=45)\n",
        "plt.show()"
      ]
    },
    {
      "cell_type": "code",
      "execution_count": 153,
      "metadata": {
        "id": "LIFnvXzPgFxB"
      },
      "outputs": [],
      "source": [
        "from sklearn.feature_extraction import FeatureHasher\n",
        "# Initialize FeatureHasher with the desired number of features\n",
        "hasher = FeatureHasher(n_features=10, input_type='string')\n",
        "# Prepare job titles as an iterable over iterables of strings\n",
        "job_titles = [[job_title] for job_title in df['Job Title'].astype(str)]\n",
        "\n",
        "# Hash the job titles\n",
        "hashed_features = hasher.transform(job_titles)\n",
        "# Convert hashed features to DataFrame\n",
        "hashed_df = pd.DataFrame(hashed_features.toarray())\n",
        "# Concatenate hashed features with the original DataFrame\n",
        "df = pd.concat([df, hashed_df], axis=1)"
      ]
    },
    {
      "cell_type": "code",
      "execution_count": 154,
      "metadata": {
        "colab": {
          "base_uri": "https://localhost:8080/",
          "height": 330
        },
        "id": "R1qdnn_AhKyc",
        "outputId": "55e94245-a28c-4c82-ed6d-99c64a665eab"
      },
      "outputs": [
        {
          "data": {
            "text/html": [
              "<div>\n",
              "<style scoped>\n",
              "    .dataframe tbody tr th:only-of-type {\n",
              "        vertical-align: middle;\n",
              "    }\n",
              "\n",
              "    .dataframe tbody tr th {\n",
              "        vertical-align: top;\n",
              "    }\n",
              "\n",
              "    .dataframe thead th {\n",
              "        text-align: right;\n",
              "    }\n",
              "</style>\n",
              "<table border=\"1\" class=\"dataframe\">\n",
              "  <thead>\n",
              "    <tr style=\"text-align: right;\">\n",
              "      <th></th>\n",
              "      <th>Employee ID</th>\n",
              "      <th>Department</th>\n",
              "      <th>Job Title</th>\n",
              "      <th>Years of Experience</th>\n",
              "      <th>Age Range</th>\n",
              "      <th>Location</th>\n",
              "      <th>Laid Off</th>\n",
              "      <th>Severance Package</th>\n",
              "      <th>Promotion</th>\n",
              "      <th>0</th>\n",
              "      <th>1</th>\n",
              "      <th>2</th>\n",
              "      <th>3</th>\n",
              "      <th>4</th>\n",
              "      <th>5</th>\n",
              "      <th>6</th>\n",
              "      <th>7</th>\n",
              "      <th>8</th>\n",
              "      <th>9</th>\n",
              "    </tr>\n",
              "  </thead>\n",
              "  <tbody>\n",
              "    <tr>\n",
              "      <th>0</th>\n",
              "      <td>EMP_0001</td>\n",
              "      <td>Engineering</td>\n",
              "      <td>Software Engineer</td>\n",
              "      <td>5</td>\n",
              "      <td>25.0</td>\n",
              "      <td>Bangalore</td>\n",
              "      <td>0</td>\n",
              "      <td>1</td>\n",
              "      <td>0</td>\n",
              "      <td>0.0</td>\n",
              "      <td>0.0</td>\n",
              "      <td>0.0</td>\n",
              "      <td>0.0</td>\n",
              "      <td>0.0</td>\n",
              "      <td>0.0</td>\n",
              "      <td>0.0</td>\n",
              "      <td>0.0</td>\n",
              "      <td>1.0</td>\n",
              "      <td>0.0</td>\n",
              "    </tr>\n",
              "    <tr>\n",
              "      <th>1</th>\n",
              "      <td>EMP_0002</td>\n",
              "      <td>Marketing</td>\n",
              "      <td>Marketing Manager</td>\n",
              "      <td>10</td>\n",
              "      <td>35.0</td>\n",
              "      <td>Hyderabad</td>\n",
              "      <td>0</td>\n",
              "      <td>0</td>\n",
              "      <td>0</td>\n",
              "      <td>0.0</td>\n",
              "      <td>0.0</td>\n",
              "      <td>0.0</td>\n",
              "      <td>0.0</td>\n",
              "      <td>0.0</td>\n",
              "      <td>-1.0</td>\n",
              "      <td>0.0</td>\n",
              "      <td>0.0</td>\n",
              "      <td>0.0</td>\n",
              "      <td>0.0</td>\n",
              "    </tr>\n",
              "    <tr>\n",
              "      <th>2</th>\n",
              "      <td>EMP_0003</td>\n",
              "      <td>Sales</td>\n",
              "      <td>Sales Associate</td>\n",
              "      <td>2</td>\n",
              "      <td>25.0</td>\n",
              "      <td>Mumbai</td>\n",
              "      <td>0</td>\n",
              "      <td>0</td>\n",
              "      <td>0</td>\n",
              "      <td>-1.0</td>\n",
              "      <td>0.0</td>\n",
              "      <td>0.0</td>\n",
              "      <td>0.0</td>\n",
              "      <td>0.0</td>\n",
              "      <td>0.0</td>\n",
              "      <td>0.0</td>\n",
              "      <td>0.0</td>\n",
              "      <td>0.0</td>\n",
              "      <td>0.0</td>\n",
              "    </tr>\n",
              "    <tr>\n",
              "      <th>3</th>\n",
              "      <td>EMP_0004</td>\n",
              "      <td>IT</td>\n",
              "      <td>Network Administrator</td>\n",
              "      <td>15</td>\n",
              "      <td>45.0</td>\n",
              "      <td>Remote</td>\n",
              "      <td>1</td>\n",
              "      <td>1</td>\n",
              "      <td>0</td>\n",
              "      <td>0.0</td>\n",
              "      <td>1.0</td>\n",
              "      <td>0.0</td>\n",
              "      <td>0.0</td>\n",
              "      <td>0.0</td>\n",
              "      <td>0.0</td>\n",
              "      <td>0.0</td>\n",
              "      <td>0.0</td>\n",
              "      <td>0.0</td>\n",
              "      <td>0.0</td>\n",
              "    </tr>\n",
              "    <tr>\n",
              "      <th>4</th>\n",
              "      <td>EMP_0005</td>\n",
              "      <td>Engineering</td>\n",
              "      <td>Data Scientist</td>\n",
              "      <td>8</td>\n",
              "      <td>35.0</td>\n",
              "      <td>Bangalore</td>\n",
              "      <td>0</td>\n",
              "      <td>0</td>\n",
              "      <td>0</td>\n",
              "      <td>0.0</td>\n",
              "      <td>0.0</td>\n",
              "      <td>1.0</td>\n",
              "      <td>0.0</td>\n",
              "      <td>0.0</td>\n",
              "      <td>0.0</td>\n",
              "      <td>0.0</td>\n",
              "      <td>0.0</td>\n",
              "      <td>0.0</td>\n",
              "      <td>0.0</td>\n",
              "    </tr>\n",
              "  </tbody>\n",
              "</table>\n",
              "</div>"
            ],
            "text/plain": [
              "  Employee ID   Department              Job Title  Years of Experience  \\\n",
              "0    EMP_0001  Engineering      Software Engineer                    5   \n",
              "1    EMP_0002    Marketing      Marketing Manager                   10   \n",
              "2    EMP_0003        Sales        Sales Associate                    2   \n",
              "3    EMP_0004           IT  Network Administrator                   15   \n",
              "4    EMP_0005  Engineering         Data Scientist                    8   \n",
              "\n",
              "   Age Range   Location  Laid Off  Severance Package  Promotion    0    1  \\\n",
              "0       25.0  Bangalore         0                  1          0  0.0  0.0   \n",
              "1       35.0  Hyderabad         0                  0          0  0.0  0.0   \n",
              "2       25.0     Mumbai         0                  0          0 -1.0  0.0   \n",
              "3       45.0     Remote         1                  1          0  0.0  1.0   \n",
              "4       35.0  Bangalore         0                  0          0  0.0  0.0   \n",
              "\n",
              "     2    3    4    5    6    7    8    9  \n",
              "0  0.0  0.0  0.0  0.0  0.0  0.0  1.0  0.0  \n",
              "1  0.0  0.0  0.0 -1.0  0.0  0.0  0.0  0.0  \n",
              "2  0.0  0.0  0.0  0.0  0.0  0.0  0.0  0.0  \n",
              "3  0.0  0.0  0.0  0.0  0.0  0.0  0.0  0.0  \n",
              "4  1.0  0.0  0.0  0.0  0.0  0.0  0.0  0.0  "
            ]
          },
          "execution_count": 154,
          "metadata": {},
          "output_type": "execute_result"
        }
      ],
      "source": [
        "df.head()"
      ]
    },
    {
      "cell_type": "code",
      "execution_count": 155,
      "metadata": {
        "colab": {
          "base_uri": "https://localhost:8080/"
        },
        "id": "ydD9Fhdyi3Do",
        "outputId": "1750922a-16af-4f56-b07c-152633fd50a8"
      },
      "outputs": [
        {
          "data": {
            "text/plain": [
              "Employee ID            0\n",
              "Department             0\n",
              "Job Title              0\n",
              "Years of Experience    0\n",
              "Age Range              2\n",
              "Location               0\n",
              "Laid Off               0\n",
              "Severance Package      0\n",
              "Promotion              0\n",
              "0                      0\n",
              "1                      0\n",
              "2                      0\n",
              "3                      0\n",
              "4                      0\n",
              "5                      0\n",
              "6                      0\n",
              "7                      0\n",
              "8                      0\n",
              "9                      0\n",
              "dtype: int64"
            ]
          },
          "execution_count": 155,
          "metadata": {},
          "output_type": "execute_result"
        }
      ],
      "source": [
        "df.isnull().sum()"
      ]
    },
    {
      "cell_type": "code",
      "execution_count": 156,
      "metadata": {
        "colab": {
          "base_uri": "https://localhost:8080/"
        },
        "id": "Z_Zq-zmni8kl",
        "outputId": "9850317b-04fc-48f1-b9dc-ca4262fc0db7"
      },
      "outputs": [
        {
          "name": "stderr",
          "output_type": "stream",
          "text": [
            "c:\\Users\\hp\\anaconda3\\Lib\\site-packages\\sklearn\\preprocessing\\_encoders.py:972: FutureWarning: `sparse` was renamed to `sparse_output` in version 1.2 and will be removed in 1.4. `sparse_output` is ignored unless you leave `sparse` to its default value.\n",
            "  warnings.warn(\n"
          ]
        }
      ],
      "source": [
        "from sklearn.preprocessing import OneHotEncoder\n",
        "\n",
        "# Initialize OneHotEncoder\n",
        "encoder = OneHotEncoder(sparse=False)\n",
        "\n",
        "# Fit and transform the categorical column\n",
        "one_hot_encoded = encoder.fit_transform(df[['Department']])\n",
        "\n",
        "# Convert the encoded array into a DataFrame\n",
        "one_hot_df = pd.DataFrame(one_hot_encoded, columns=encoder.get_feature_names_out(['Department']))\n",
        "\n",
        "# Concatenate the one-hot encoded DataFrame with the original DataFrame\n",
        "df = pd.concat([df, one_hot_df], axis=1)"
      ]
    },
    {
      "cell_type": "code",
      "execution_count": 157,
      "metadata": {
        "colab": {
          "base_uri": "https://localhost:8080/",
          "height": 360
        },
        "id": "ctN_ej2ljhSq",
        "outputId": "1b8c1275-7a60-4475-9579-58a4e400bcc1"
      },
      "outputs": [
        {
          "data": {
            "text/html": [
              "<div>\n",
              "<style scoped>\n",
              "    .dataframe tbody tr th:only-of-type {\n",
              "        vertical-align: middle;\n",
              "    }\n",
              "\n",
              "    .dataframe tbody tr th {\n",
              "        vertical-align: top;\n",
              "    }\n",
              "\n",
              "    .dataframe thead th {\n",
              "        text-align: right;\n",
              "    }\n",
              "</style>\n",
              "<table border=\"1\" class=\"dataframe\">\n",
              "  <thead>\n",
              "    <tr style=\"text-align: right;\">\n",
              "      <th></th>\n",
              "      <th>Employee ID</th>\n",
              "      <th>Department</th>\n",
              "      <th>Job Title</th>\n",
              "      <th>Years of Experience</th>\n",
              "      <th>Age Range</th>\n",
              "      <th>Location</th>\n",
              "      <th>Laid Off</th>\n",
              "      <th>Severance Package</th>\n",
              "      <th>Promotion</th>\n",
              "      <th>0</th>\n",
              "      <th>...</th>\n",
              "      <th>8</th>\n",
              "      <th>9</th>\n",
              "      <th>Department_Customer Service</th>\n",
              "      <th>Department_Engineering</th>\n",
              "      <th>Department_Finance</th>\n",
              "      <th>Department_Human Resources</th>\n",
              "      <th>Department_IT</th>\n",
              "      <th>Department_Marketing</th>\n",
              "      <th>Department_Operations</th>\n",
              "      <th>Department_Sales</th>\n",
              "    </tr>\n",
              "  </thead>\n",
              "  <tbody>\n",
              "    <tr>\n",
              "      <th>0</th>\n",
              "      <td>EMP_0001</td>\n",
              "      <td>Engineering</td>\n",
              "      <td>Software Engineer</td>\n",
              "      <td>5</td>\n",
              "      <td>25.0</td>\n",
              "      <td>Bangalore</td>\n",
              "      <td>0</td>\n",
              "      <td>1</td>\n",
              "      <td>0</td>\n",
              "      <td>0.0</td>\n",
              "      <td>...</td>\n",
              "      <td>1.0</td>\n",
              "      <td>0.0</td>\n",
              "      <td>0.0</td>\n",
              "      <td>1.0</td>\n",
              "      <td>0.0</td>\n",
              "      <td>0.0</td>\n",
              "      <td>0.0</td>\n",
              "      <td>0.0</td>\n",
              "      <td>0.0</td>\n",
              "      <td>0.0</td>\n",
              "    </tr>\n",
              "    <tr>\n",
              "      <th>1</th>\n",
              "      <td>EMP_0002</td>\n",
              "      <td>Marketing</td>\n",
              "      <td>Marketing Manager</td>\n",
              "      <td>10</td>\n",
              "      <td>35.0</td>\n",
              "      <td>Hyderabad</td>\n",
              "      <td>0</td>\n",
              "      <td>0</td>\n",
              "      <td>0</td>\n",
              "      <td>0.0</td>\n",
              "      <td>...</td>\n",
              "      <td>0.0</td>\n",
              "      <td>0.0</td>\n",
              "      <td>0.0</td>\n",
              "      <td>0.0</td>\n",
              "      <td>0.0</td>\n",
              "      <td>0.0</td>\n",
              "      <td>0.0</td>\n",
              "      <td>1.0</td>\n",
              "      <td>0.0</td>\n",
              "      <td>0.0</td>\n",
              "    </tr>\n",
              "    <tr>\n",
              "      <th>2</th>\n",
              "      <td>EMP_0003</td>\n",
              "      <td>Sales</td>\n",
              "      <td>Sales Associate</td>\n",
              "      <td>2</td>\n",
              "      <td>25.0</td>\n",
              "      <td>Mumbai</td>\n",
              "      <td>0</td>\n",
              "      <td>0</td>\n",
              "      <td>0</td>\n",
              "      <td>-1.0</td>\n",
              "      <td>...</td>\n",
              "      <td>0.0</td>\n",
              "      <td>0.0</td>\n",
              "      <td>0.0</td>\n",
              "      <td>0.0</td>\n",
              "      <td>0.0</td>\n",
              "      <td>0.0</td>\n",
              "      <td>0.0</td>\n",
              "      <td>0.0</td>\n",
              "      <td>0.0</td>\n",
              "      <td>1.0</td>\n",
              "    </tr>\n",
              "    <tr>\n",
              "      <th>3</th>\n",
              "      <td>EMP_0004</td>\n",
              "      <td>IT</td>\n",
              "      <td>Network Administrator</td>\n",
              "      <td>15</td>\n",
              "      <td>45.0</td>\n",
              "      <td>Remote</td>\n",
              "      <td>1</td>\n",
              "      <td>1</td>\n",
              "      <td>0</td>\n",
              "      <td>0.0</td>\n",
              "      <td>...</td>\n",
              "      <td>0.0</td>\n",
              "      <td>0.0</td>\n",
              "      <td>0.0</td>\n",
              "      <td>0.0</td>\n",
              "      <td>0.0</td>\n",
              "      <td>0.0</td>\n",
              "      <td>1.0</td>\n",
              "      <td>0.0</td>\n",
              "      <td>0.0</td>\n",
              "      <td>0.0</td>\n",
              "    </tr>\n",
              "    <tr>\n",
              "      <th>4</th>\n",
              "      <td>EMP_0005</td>\n",
              "      <td>Engineering</td>\n",
              "      <td>Data Scientist</td>\n",
              "      <td>8</td>\n",
              "      <td>35.0</td>\n",
              "      <td>Bangalore</td>\n",
              "      <td>0</td>\n",
              "      <td>0</td>\n",
              "      <td>0</td>\n",
              "      <td>0.0</td>\n",
              "      <td>...</td>\n",
              "      <td>0.0</td>\n",
              "      <td>0.0</td>\n",
              "      <td>0.0</td>\n",
              "      <td>1.0</td>\n",
              "      <td>0.0</td>\n",
              "      <td>0.0</td>\n",
              "      <td>0.0</td>\n",
              "      <td>0.0</td>\n",
              "      <td>0.0</td>\n",
              "      <td>0.0</td>\n",
              "    </tr>\n",
              "  </tbody>\n",
              "</table>\n",
              "<p>5 rows × 27 columns</p>\n",
              "</div>"
            ],
            "text/plain": [
              "  Employee ID   Department              Job Title  Years of Experience  \\\n",
              "0    EMP_0001  Engineering      Software Engineer                    5   \n",
              "1    EMP_0002    Marketing      Marketing Manager                   10   \n",
              "2    EMP_0003        Sales        Sales Associate                    2   \n",
              "3    EMP_0004           IT  Network Administrator                   15   \n",
              "4    EMP_0005  Engineering         Data Scientist                    8   \n",
              "\n",
              "   Age Range   Location  Laid Off  Severance Package  Promotion    0  ...  \\\n",
              "0       25.0  Bangalore         0                  1          0  0.0  ...   \n",
              "1       35.0  Hyderabad         0                  0          0  0.0  ...   \n",
              "2       25.0     Mumbai         0                  0          0 -1.0  ...   \n",
              "3       45.0     Remote         1                  1          0  0.0  ...   \n",
              "4       35.0  Bangalore         0                  0          0  0.0  ...   \n",
              "\n",
              "     8    9  Department_Customer Service  Department_Engineering  \\\n",
              "0  1.0  0.0                          0.0                     1.0   \n",
              "1  0.0  0.0                          0.0                     0.0   \n",
              "2  0.0  0.0                          0.0                     0.0   \n",
              "3  0.0  0.0                          0.0                     0.0   \n",
              "4  0.0  0.0                          0.0                     1.0   \n",
              "\n",
              "   Department_Finance  Department_Human Resources  Department_IT  \\\n",
              "0                 0.0                         0.0            0.0   \n",
              "1                 0.0                         0.0            0.0   \n",
              "2                 0.0                         0.0            0.0   \n",
              "3                 0.0                         0.0            1.0   \n",
              "4                 0.0                         0.0            0.0   \n",
              "\n",
              "   Department_Marketing  Department_Operations  Department_Sales  \n",
              "0                   0.0                    0.0               0.0  \n",
              "1                   1.0                    0.0               0.0  \n",
              "2                   0.0                    0.0               1.0  \n",
              "3                   0.0                    0.0               0.0  \n",
              "4                   0.0                    0.0               0.0  \n",
              "\n",
              "[5 rows x 27 columns]"
            ]
          },
          "execution_count": 157,
          "metadata": {},
          "output_type": "execute_result"
        }
      ],
      "source": [
        "df.head()"
      ]
    },
    {
      "cell_type": "code",
      "execution_count": 158,
      "metadata": {
        "colab": {
          "base_uri": "https://localhost:8080/",
          "height": 360
        },
        "id": "DxjM3EKIjwQh",
        "outputId": "72464d3f-13ea-4d12-b2fa-02655d4e55ff"
      },
      "outputs": [
        {
          "data": {
            "text/html": [
              "<div>\n",
              "<style scoped>\n",
              "    .dataframe tbody tr th:only-of-type {\n",
              "        vertical-align: middle;\n",
              "    }\n",
              "\n",
              "    .dataframe tbody tr th {\n",
              "        vertical-align: top;\n",
              "    }\n",
              "\n",
              "    .dataframe thead th {\n",
              "        text-align: right;\n",
              "    }\n",
              "</style>\n",
              "<table border=\"1\" class=\"dataframe\">\n",
              "  <thead>\n",
              "    <tr style=\"text-align: right;\">\n",
              "      <th></th>\n",
              "      <th>Employee ID</th>\n",
              "      <th>Department</th>\n",
              "      <th>Job Title</th>\n",
              "      <th>Years of Experience</th>\n",
              "      <th>Age Range</th>\n",
              "      <th>Location</th>\n",
              "      <th>Laid Off</th>\n",
              "      <th>Severance Package</th>\n",
              "      <th>Promotion</th>\n",
              "      <th>0</th>\n",
              "      <th>...</th>\n",
              "      <th>8</th>\n",
              "      <th>9</th>\n",
              "      <th>Department_Customer Service</th>\n",
              "      <th>Department_Engineering</th>\n",
              "      <th>Department_Finance</th>\n",
              "      <th>Department_Human Resources</th>\n",
              "      <th>Department_IT</th>\n",
              "      <th>Department_Marketing</th>\n",
              "      <th>Department_Operations</th>\n",
              "      <th>Department_Sales</th>\n",
              "    </tr>\n",
              "  </thead>\n",
              "  <tbody>\n",
              "    <tr>\n",
              "      <th>0</th>\n",
              "      <td>EMP_0001</td>\n",
              "      <td>Engineering</td>\n",
              "      <td>Software Engineer</td>\n",
              "      <td>5</td>\n",
              "      <td>25.0</td>\n",
              "      <td>Bangalore</td>\n",
              "      <td>0</td>\n",
              "      <td>1</td>\n",
              "      <td>0</td>\n",
              "      <td>0.0</td>\n",
              "      <td>...</td>\n",
              "      <td>1.0</td>\n",
              "      <td>0.0</td>\n",
              "      <td>0.0</td>\n",
              "      <td>1.0</td>\n",
              "      <td>0.0</td>\n",
              "      <td>0.0</td>\n",
              "      <td>0.0</td>\n",
              "      <td>0.0</td>\n",
              "      <td>0.0</td>\n",
              "      <td>0.0</td>\n",
              "    </tr>\n",
              "    <tr>\n",
              "      <th>1</th>\n",
              "      <td>EMP_0002</td>\n",
              "      <td>Marketing</td>\n",
              "      <td>Marketing Manager</td>\n",
              "      <td>10</td>\n",
              "      <td>35.0</td>\n",
              "      <td>Hyderabad</td>\n",
              "      <td>0</td>\n",
              "      <td>0</td>\n",
              "      <td>0</td>\n",
              "      <td>0.0</td>\n",
              "      <td>...</td>\n",
              "      <td>0.0</td>\n",
              "      <td>0.0</td>\n",
              "      <td>0.0</td>\n",
              "      <td>0.0</td>\n",
              "      <td>0.0</td>\n",
              "      <td>0.0</td>\n",
              "      <td>0.0</td>\n",
              "      <td>1.0</td>\n",
              "      <td>0.0</td>\n",
              "      <td>0.0</td>\n",
              "    </tr>\n",
              "    <tr>\n",
              "      <th>2</th>\n",
              "      <td>EMP_0003</td>\n",
              "      <td>Sales</td>\n",
              "      <td>Sales Associate</td>\n",
              "      <td>2</td>\n",
              "      <td>25.0</td>\n",
              "      <td>Mumbai</td>\n",
              "      <td>0</td>\n",
              "      <td>0</td>\n",
              "      <td>0</td>\n",
              "      <td>-1.0</td>\n",
              "      <td>...</td>\n",
              "      <td>0.0</td>\n",
              "      <td>0.0</td>\n",
              "      <td>0.0</td>\n",
              "      <td>0.0</td>\n",
              "      <td>0.0</td>\n",
              "      <td>0.0</td>\n",
              "      <td>0.0</td>\n",
              "      <td>0.0</td>\n",
              "      <td>0.0</td>\n",
              "      <td>1.0</td>\n",
              "    </tr>\n",
              "    <tr>\n",
              "      <th>3</th>\n",
              "      <td>EMP_0004</td>\n",
              "      <td>IT</td>\n",
              "      <td>Network Administrator</td>\n",
              "      <td>15</td>\n",
              "      <td>45.0</td>\n",
              "      <td>Remote</td>\n",
              "      <td>1</td>\n",
              "      <td>1</td>\n",
              "      <td>0</td>\n",
              "      <td>0.0</td>\n",
              "      <td>...</td>\n",
              "      <td>0.0</td>\n",
              "      <td>0.0</td>\n",
              "      <td>0.0</td>\n",
              "      <td>0.0</td>\n",
              "      <td>0.0</td>\n",
              "      <td>0.0</td>\n",
              "      <td>1.0</td>\n",
              "      <td>0.0</td>\n",
              "      <td>0.0</td>\n",
              "      <td>0.0</td>\n",
              "    </tr>\n",
              "    <tr>\n",
              "      <th>4</th>\n",
              "      <td>EMP_0005</td>\n",
              "      <td>Engineering</td>\n",
              "      <td>Data Scientist</td>\n",
              "      <td>8</td>\n",
              "      <td>35.0</td>\n",
              "      <td>Bangalore</td>\n",
              "      <td>0</td>\n",
              "      <td>0</td>\n",
              "      <td>0</td>\n",
              "      <td>0.0</td>\n",
              "      <td>...</td>\n",
              "      <td>0.0</td>\n",
              "      <td>0.0</td>\n",
              "      <td>0.0</td>\n",
              "      <td>1.0</td>\n",
              "      <td>0.0</td>\n",
              "      <td>0.0</td>\n",
              "      <td>0.0</td>\n",
              "      <td>0.0</td>\n",
              "      <td>0.0</td>\n",
              "      <td>0.0</td>\n",
              "    </tr>\n",
              "  </tbody>\n",
              "</table>\n",
              "<p>5 rows × 27 columns</p>\n",
              "</div>"
            ],
            "text/plain": [
              "  Employee ID   Department              Job Title  Years of Experience  \\\n",
              "0    EMP_0001  Engineering      Software Engineer                    5   \n",
              "1    EMP_0002    Marketing      Marketing Manager                   10   \n",
              "2    EMP_0003        Sales        Sales Associate                    2   \n",
              "3    EMP_0004           IT  Network Administrator                   15   \n",
              "4    EMP_0005  Engineering         Data Scientist                    8   \n",
              "\n",
              "   Age Range   Location  Laid Off  Severance Package  Promotion    0  ...  \\\n",
              "0       25.0  Bangalore         0                  1          0  0.0  ...   \n",
              "1       35.0  Hyderabad         0                  0          0  0.0  ...   \n",
              "2       25.0     Mumbai         0                  0          0 -1.0  ...   \n",
              "3       45.0     Remote         1                  1          0  0.0  ...   \n",
              "4       35.0  Bangalore         0                  0          0  0.0  ...   \n",
              "\n",
              "     8    9  Department_Customer Service  Department_Engineering  \\\n",
              "0  1.0  0.0                          0.0                     1.0   \n",
              "1  0.0  0.0                          0.0                     0.0   \n",
              "2  0.0  0.0                          0.0                     0.0   \n",
              "3  0.0  0.0                          0.0                     0.0   \n",
              "4  0.0  0.0                          0.0                     1.0   \n",
              "\n",
              "   Department_Finance  Department_Human Resources  Department_IT  \\\n",
              "0                 0.0                         0.0            0.0   \n",
              "1                 0.0                         0.0            0.0   \n",
              "2                 0.0                         0.0            0.0   \n",
              "3                 0.0                         0.0            1.0   \n",
              "4                 0.0                         0.0            0.0   \n",
              "\n",
              "   Department_Marketing  Department_Operations  Department_Sales  \n",
              "0                   0.0                    0.0               0.0  \n",
              "1                   1.0                    0.0               0.0  \n",
              "2                   0.0                    0.0               1.0  \n",
              "3                   0.0                    0.0               0.0  \n",
              "4                   0.0                    0.0               0.0  \n",
              "\n",
              "[5 rows x 27 columns]"
            ]
          },
          "execution_count": 158,
          "metadata": {},
          "output_type": "execute_result"
        }
      ],
      "source": [
        "df.head()"
      ]
    },
    {
      "cell_type": "code",
      "execution_count": 159,
      "metadata": {
        "id": "CTshWgvzjxWH"
      },
      "outputs": [],
      "source": [
        "df['Age Range'] = df['Age Range'].fillna(df[df['Age Range'] != np.nan]['Age Range'].mode()[0])"
      ]
    },
    {
      "cell_type": "code",
      "execution_count": 160,
      "metadata": {
        "colab": {
          "base_uri": "https://localhost:8080/"
        },
        "id": "lwqqFZIMkL9J",
        "outputId": "233d3876-baa6-4b6a-b7e0-875cd164c825"
      },
      "outputs": [
        {
          "data": {
            "text/plain": [
              "Employee ID                    0\n",
              "Department                     0\n",
              "Job Title                      0\n",
              "Years of Experience            0\n",
              "Age Range                      0\n",
              "Location                       0\n",
              "Laid Off                       0\n",
              "Severance Package              0\n",
              "Promotion                      0\n",
              "0                              0\n",
              "1                              0\n",
              "2                              0\n",
              "3                              0\n",
              "4                              0\n",
              "5                              0\n",
              "6                              0\n",
              "7                              0\n",
              "8                              0\n",
              "9                              0\n",
              "Department_Customer Service    0\n",
              "Department_Engineering         0\n",
              "Department_Finance             0\n",
              "Department_Human Resources     0\n",
              "Department_IT                  0\n",
              "Department_Marketing           0\n",
              "Department_Operations          0\n",
              "Department_Sales               0\n",
              "dtype: int64"
            ]
          },
          "execution_count": 160,
          "metadata": {},
          "output_type": "execute_result"
        }
      ],
      "source": [
        "df.isnull().sum()"
      ]
    },
    {
      "cell_type": "code",
      "execution_count": 161,
      "metadata": {
        "id": "ww7a3oTDn3ck"
      },
      "outputs": [],
      "source": [
        "df.drop(['Department', 'Job Title'], axis = 1, inplace = True)"
      ]
    },
    {
      "cell_type": "code",
      "execution_count": 162,
      "metadata": {
        "colab": {
          "base_uri": "https://localhost:8080/",
          "height": 522
        },
        "id": "Dp-7dbnskOkw",
        "outputId": "eb3ebfe8-68e1-4867-a94e-1141d7352473"
      },
      "outputs": [
        {
          "data": {
            "image/png": "[encoded data removed]",
            "text/plain": [
              "<Figure size 640x480 with 1 Axes>"
            ]
          },
          "metadata": {},
          "output_type": "display_data"
        }
      ],
      "source": [
        "# Group by 'Location' and calculate the mean of 'Laid_Off'\n",
        "location_laid_off_mean = df.groupby('Location')['Laid Off'].mean()\n",
        "\n",
        "# Plot the data\n",
        "location_laid_off_mean.plot(kind='bar', stacked=True)\n",
        "plt.title('Effect of Location on Laid Off')\n",
        "plt.xlabel('Location')\n",
        "plt.ylabel('Proportion of Laid Off Employees')\n",
        "plt.xticks(rotation=45)\n",
        "plt.show()"
      ]
    },
    {
      "cell_type": "markdown",
      "metadata": {
        "id": "XQXbgSkolGuj"
      },
      "source": [
        "### Insight\n",
        "- Location has significant impact on Laif Off status"
      ]
    },
    {
      "cell_type": "code",
      "execution_count": 163,
      "metadata": {
        "colab": {
          "base_uri": "https://localhost:8080/"
        },
        "id": "clu01do3k8um",
        "outputId": "42cd1014-355e-4f2d-8213-c656d8620c4f"
      },
      "outputs": [
        {
          "name": "stderr",
          "output_type": "stream",
          "text": [
            "c:\\Users\\hp\\anaconda3\\Lib\\site-packages\\sklearn\\preprocessing\\_encoders.py:972: FutureWarning: `sparse` was renamed to `sparse_output` in version 1.2 and will be removed in 1.4. `sparse_output` is ignored unless you leave `sparse` to its default value.\n",
            "  warnings.warn(\n"
          ]
        }
      ],
      "source": [
        "from sklearn.preprocessing import OneHotEncoder\n",
        "\n",
        "# Initialize OneHotEncoder\n",
        "encoder = OneHotEncoder(sparse=False)\n",
        "\n",
        "# Fit and transform the categorical column\n",
        "one_hot_encoded = encoder.fit_transform(df[['Location']])\n",
        "\n",
        "# Convert the encoded array into a DataFrame\n",
        "one_hot_df = pd.DataFrame(one_hot_encoded, columns=encoder.get_feature_names_out(['Location']))\n",
        "\n",
        "# Concatenate the one-hot encoded DataFrame with the original DataFrame\n",
        "df = pd.concat([df, one_hot_df], axis=1)"
      ]
    },
    {
      "cell_type": "code",
      "execution_count": 164,
      "metadata": {
        "colab": {
          "base_uri": "https://localhost:8080/",
          "height": 273
        },
        "id": "RZp5J_zEoMNp",
        "outputId": "f05b920a-fd3c-4b56-a23e-5d4d5540a0b4"
      },
      "outputs": [
        {
          "data": {
            "text/html": [
              "<div>\n",
              "<style scoped>\n",
              "    .dataframe tbody tr th:only-of-type {\n",
              "        vertical-align: middle;\n",
              "    }\n",
              "\n",
              "    .dataframe tbody tr th {\n",
              "        vertical-align: top;\n",
              "    }\n",
              "\n",
              "    .dataframe thead th {\n",
              "        text-align: right;\n",
              "    }\n",
              "</style>\n",
              "<table border=\"1\" class=\"dataframe\">\n",
              "  <thead>\n",
              "    <tr style=\"text-align: right;\">\n",
              "      <th></th>\n",
              "      <th>Employee ID</th>\n",
              "      <th>Years of Experience</th>\n",
              "      <th>Age Range</th>\n",
              "      <th>Location</th>\n",
              "      <th>Laid Off</th>\n",
              "      <th>Severance Package</th>\n",
              "      <th>Promotion</th>\n",
              "      <th>0</th>\n",
              "      <th>1</th>\n",
              "      <th>2</th>\n",
              "      <th>...</th>\n",
              "      <th>Department_Finance</th>\n",
              "      <th>Department_Human Resources</th>\n",
              "      <th>Department_IT</th>\n",
              "      <th>Department_Marketing</th>\n",
              "      <th>Department_Operations</th>\n",
              "      <th>Department_Sales</th>\n",
              "      <th>Location_Bangalore</th>\n",
              "      <th>Location_Hyderabad</th>\n",
              "      <th>Location_Mumbai</th>\n",
              "      <th>Location_Remote</th>\n",
              "    </tr>\n",
              "  </thead>\n",
              "  <tbody>\n",
              "    <tr>\n",
              "      <th>0</th>\n",
              "      <td>EMP_0001</td>\n",
              "      <td>5</td>\n",
              "      <td>25.0</td>\n",
              "      <td>Bangalore</td>\n",
              "      <td>0</td>\n",
              "      <td>1</td>\n",
              "      <td>0</td>\n",
              "      <td>0.0</td>\n",
              "      <td>0.0</td>\n",
              "      <td>0.0</td>\n",
              "      <td>...</td>\n",
              "      <td>0.0</td>\n",
              "      <td>0.0</td>\n",
              "      <td>0.0</td>\n",
              "      <td>0.0</td>\n",
              "      <td>0.0</td>\n",
              "      <td>0.0</td>\n",
              "      <td>1.0</td>\n",
              "      <td>0.0</td>\n",
              "      <td>0.0</td>\n",
              "      <td>0.0</td>\n",
              "    </tr>\n",
              "    <tr>\n",
              "      <th>1</th>\n",
              "      <td>EMP_0002</td>\n",
              "      <td>10</td>\n",
              "      <td>35.0</td>\n",
              "      <td>Hyderabad</td>\n",
              "      <td>0</td>\n",
              "      <td>0</td>\n",
              "      <td>0</td>\n",
              "      <td>0.0</td>\n",
              "      <td>0.0</td>\n",
              "      <td>0.0</td>\n",
              "      <td>...</td>\n",
              "      <td>0.0</td>\n",
              "      <td>0.0</td>\n",
              "      <td>0.0</td>\n",
              "      <td>1.0</td>\n",
              "      <td>0.0</td>\n",
              "      <td>0.0</td>\n",
              "      <td>0.0</td>\n",
              "      <td>1.0</td>\n",
              "      <td>0.0</td>\n",
              "      <td>0.0</td>\n",
              "    </tr>\n",
              "    <tr>\n",
              "      <th>2</th>\n",
              "      <td>EMP_0003</td>\n",
              "      <td>2</td>\n",
              "      <td>25.0</td>\n",
              "      <td>Mumbai</td>\n",
              "      <td>0</td>\n",
              "      <td>0</td>\n",
              "      <td>0</td>\n",
              "      <td>-1.0</td>\n",
              "      <td>0.0</td>\n",
              "      <td>0.0</td>\n",
              "      <td>...</td>\n",
              "      <td>0.0</td>\n",
              "      <td>0.0</td>\n",
              "      <td>0.0</td>\n",
              "      <td>0.0</td>\n",
              "      <td>0.0</td>\n",
              "      <td>1.0</td>\n",
              "      <td>0.0</td>\n",
              "      <td>0.0</td>\n",
              "      <td>1.0</td>\n",
              "      <td>0.0</td>\n",
              "    </tr>\n",
              "    <tr>\n",
              "      <th>3</th>\n",
              "      <td>EMP_0004</td>\n",
              "      <td>15</td>\n",
              "      <td>45.0</td>\n",
              "      <td>Remote</td>\n",
              "      <td>1</td>\n",
              "      <td>1</td>\n",
              "      <td>0</td>\n",
              "      <td>0.0</td>\n",
              "      <td>1.0</td>\n",
              "      <td>0.0</td>\n",
              "      <td>...</td>\n",
              "      <td>0.0</td>\n",
              "      <td>0.0</td>\n",
              "      <td>1.0</td>\n",
              "      <td>0.0</td>\n",
              "      <td>0.0</td>\n",
              "      <td>0.0</td>\n",
              "      <td>0.0</td>\n",
              "      <td>0.0</td>\n",
              "      <td>0.0</td>\n",
              "      <td>1.0</td>\n",
              "    </tr>\n",
              "    <tr>\n",
              "      <th>4</th>\n",
              "      <td>EMP_0005</td>\n",
              "      <td>8</td>\n",
              "      <td>35.0</td>\n",
              "      <td>Bangalore</td>\n",
              "      <td>0</td>\n",
              "      <td>0</td>\n",
              "      <td>0</td>\n",
              "      <td>0.0</td>\n",
              "      <td>0.0</td>\n",
              "      <td>1.0</td>\n",
              "      <td>...</td>\n",
              "      <td>0.0</td>\n",
              "      <td>0.0</td>\n",
              "      <td>0.0</td>\n",
              "      <td>0.0</td>\n",
              "      <td>0.0</td>\n",
              "      <td>0.0</td>\n",
              "      <td>1.0</td>\n",
              "      <td>0.0</td>\n",
              "      <td>0.0</td>\n",
              "      <td>0.0</td>\n",
              "    </tr>\n",
              "  </tbody>\n",
              "</table>\n",
              "<p>5 rows × 29 columns</p>\n",
              "</div>"
            ],
            "text/plain": [
              "  Employee ID  Years of Experience  Age Range   Location  Laid Off  \\\n",
              "0    EMP_0001                    5       25.0  Bangalore         0   \n",
              "1    EMP_0002                   10       35.0  Hyderabad         0   \n",
              "2    EMP_0003                    2       25.0     Mumbai         0   \n",
              "3    EMP_0004                   15       45.0     Remote         1   \n",
              "4    EMP_0005                    8       35.0  Bangalore         0   \n",
              "\n",
              "   Severance Package  Promotion    0    1    2  ...  Department_Finance  \\\n",
              "0                  1          0  0.0  0.0  0.0  ...                 0.0   \n",
              "1                  0          0  0.0  0.0  0.0  ...                 0.0   \n",
              "2                  0          0 -1.0  0.0  0.0  ...                 0.0   \n",
              "3                  1          0  0.0  1.0  0.0  ...                 0.0   \n",
              "4                  0          0  0.0  0.0  1.0  ...                 0.0   \n",
              "\n",
              "   Department_Human Resources  Department_IT  Department_Marketing  \\\n",
              "0                         0.0            0.0                   0.0   \n",
              "1                         0.0            0.0                   1.0   \n",
              "2                         0.0            0.0                   0.0   \n",
              "3                         0.0            1.0                   0.0   \n",
              "4                         0.0            0.0                   0.0   \n",
              "\n",
              "   Department_Operations  Department_Sales  Location_Bangalore  \\\n",
              "0                    0.0               0.0                 1.0   \n",
              "1                    0.0               0.0                 0.0   \n",
              "2                    0.0               1.0                 0.0   \n",
              "3                    0.0               0.0                 0.0   \n",
              "4                    0.0               0.0                 1.0   \n",
              "\n",
              "   Location_Hyderabad  Location_Mumbai  Location_Remote  \n",
              "0                 0.0              0.0              0.0  \n",
              "1                 1.0              0.0              0.0  \n",
              "2                 0.0              1.0              0.0  \n",
              "3                 0.0              0.0              1.0  \n",
              "4                 0.0              0.0              0.0  \n",
              "\n",
              "[5 rows x 29 columns]"
            ]
          },
          "execution_count": 164,
          "metadata": {},
          "output_type": "execute_result"
        }
      ],
      "source": [
        "df.head()"
      ]
    },
    {
      "cell_type": "code",
      "execution_count": 165,
      "metadata": {
        "id": "mWA2ZvOkoRA5"
      },
      "outputs": [],
      "source": [
        "df.drop(['Employee ID', 'Location'], axis = 1, inplace = True)"
      ]
    },
    {
      "cell_type": "code",
      "execution_count": 166,
      "metadata": {
        "colab": {
          "base_uri": "https://localhost:8080/",
          "height": 273
        },
        "id": "jQGDtLvsonlF",
        "outputId": "dffd7494-e979-46a1-cdcf-14055cca63bf"
      },
      "outputs": [
        {
          "data": {
            "text/html": [
              "<div>\n",
              "<style scoped>\n",
              "    .dataframe tbody tr th:only-of-type {\n",
              "        vertical-align: middle;\n",
              "    }\n",
              "\n",
              "    .dataframe tbody tr th {\n",
              "        vertical-align: top;\n",
              "    }\n",
              "\n",
              "    .dataframe thead th {\n",
              "        text-align: right;\n",
              "    }\n",
              "</style>\n",
              "<table border=\"1\" class=\"dataframe\">\n",
              "  <thead>\n",
              "    <tr style=\"text-align: right;\">\n",
              "      <th></th>\n",
              "      <th>Years of Experience</th>\n",
              "      <th>Age Range</th>\n",
              "      <th>Laid Off</th>\n",
              "      <th>Severance Package</th>\n",
              "      <th>Promotion</th>\n",
              "      <th>0</th>\n",
              "      <th>1</th>\n",
              "      <th>2</th>\n",
              "      <th>3</th>\n",
              "      <th>4</th>\n",
              "      <th>...</th>\n",
              "      <th>Department_Finance</th>\n",
              "      <th>Department_Human Resources</th>\n",
              "      <th>Department_IT</th>\n",
              "      <th>Department_Marketing</th>\n",
              "      <th>Department_Operations</th>\n",
              "      <th>Department_Sales</th>\n",
              "      <th>Location_Bangalore</th>\n",
              "      <th>Location_Hyderabad</th>\n",
              "      <th>Location_Mumbai</th>\n",
              "      <th>Location_Remote</th>\n",
              "    </tr>\n",
              "  </thead>\n",
              "  <tbody>\n",
              "    <tr>\n",
              "      <th>0</th>\n",
              "      <td>5</td>\n",
              "      <td>25.0</td>\n",
              "      <td>0</td>\n",
              "      <td>1</td>\n",
              "      <td>0</td>\n",
              "      <td>0.0</td>\n",
              "      <td>0.0</td>\n",
              "      <td>0.0</td>\n",
              "      <td>0.0</td>\n",
              "      <td>0.0</td>\n",
              "      <td>...</td>\n",
              "      <td>0.0</td>\n",
              "      <td>0.0</td>\n",
              "      <td>0.0</td>\n",
              "      <td>0.0</td>\n",
              "      <td>0.0</td>\n",
              "      <td>0.0</td>\n",
              "      <td>1.0</td>\n",
              "      <td>0.0</td>\n",
              "      <td>0.0</td>\n",
              "      <td>0.0</td>\n",
              "    </tr>\n",
              "    <tr>\n",
              "      <th>1</th>\n",
              "      <td>10</td>\n",
              "      <td>35.0</td>\n",
              "      <td>0</td>\n",
              "      <td>0</td>\n",
              "      <td>0</td>\n",
              "      <td>0.0</td>\n",
              "      <td>0.0</td>\n",
              "      <td>0.0</td>\n",
              "      <td>0.0</td>\n",
              "      <td>0.0</td>\n",
              "      <td>...</td>\n",
              "      <td>0.0</td>\n",
              "      <td>0.0</td>\n",
              "      <td>0.0</td>\n",
              "      <td>1.0</td>\n",
              "      <td>0.0</td>\n",
              "      <td>0.0</td>\n",
              "      <td>0.0</td>\n",
              "      <td>1.0</td>\n",
              "      <td>0.0</td>\n",
              "      <td>0.0</td>\n",
              "    </tr>\n",
              "    <tr>\n",
              "      <th>2</th>\n",
              "      <td>2</td>\n",
              "      <td>25.0</td>\n",
              "      <td>0</td>\n",
              "      <td>0</td>\n",
              "      <td>0</td>\n",
              "      <td>-1.0</td>\n",
              "      <td>0.0</td>\n",
              "      <td>0.0</td>\n",
              "      <td>0.0</td>\n",
              "      <td>0.0</td>\n",
              "      <td>...</td>\n",
              "      <td>0.0</td>\n",
              "      <td>0.0</td>\n",
              "      <td>0.0</td>\n",
              "      <td>0.0</td>\n",
              "      <td>0.0</td>\n",
              "      <td>1.0</td>\n",
              "      <td>0.0</td>\n",
              "      <td>0.0</td>\n",
              "      <td>1.0</td>\n",
              "      <td>0.0</td>\n",
              "    </tr>\n",
              "    <tr>\n",
              "      <th>3</th>\n",
              "      <td>15</td>\n",
              "      <td>45.0</td>\n",
              "      <td>1</td>\n",
              "      <td>1</td>\n",
              "      <td>0</td>\n",
              "      <td>0.0</td>\n",
              "      <td>1.0</td>\n",
              "      <td>0.0</td>\n",
              "      <td>0.0</td>\n",
              "      <td>0.0</td>\n",
              "      <td>...</td>\n",
              "      <td>0.0</td>\n",
              "      <td>0.0</td>\n",
              "      <td>1.0</td>\n",
              "      <td>0.0</td>\n",
              "      <td>0.0</td>\n",
              "      <td>0.0</td>\n",
              "      <td>0.0</td>\n",
              "      <td>0.0</td>\n",
              "      <td>0.0</td>\n",
              "      <td>1.0</td>\n",
              "    </tr>\n",
              "    <tr>\n",
              "      <th>4</th>\n",
              "      <td>8</td>\n",
              "      <td>35.0</td>\n",
              "      <td>0</td>\n",
              "      <td>0</td>\n",
              "      <td>0</td>\n",
              "      <td>0.0</td>\n",
              "      <td>0.0</td>\n",
              "      <td>1.0</td>\n",
              "      <td>0.0</td>\n",
              "      <td>0.0</td>\n",
              "      <td>...</td>\n",
              "      <td>0.0</td>\n",
              "      <td>0.0</td>\n",
              "      <td>0.0</td>\n",
              "      <td>0.0</td>\n",
              "      <td>0.0</td>\n",
              "      <td>0.0</td>\n",
              "      <td>1.0</td>\n",
              "      <td>0.0</td>\n",
              "      <td>0.0</td>\n",
              "      <td>0.0</td>\n",
              "    </tr>\n",
              "  </tbody>\n",
              "</table>\n",
              "<p>5 rows × 27 columns</p>\n",
              "</div>"
            ],
            "text/plain": [
              "   Years of Experience  Age Range  Laid Off  Severance Package  Promotion  \\\n",
              "0                    5       25.0         0                  1          0   \n",
              "1                   10       35.0         0                  0          0   \n",
              "2                    2       25.0         0                  0          0   \n",
              "3                   15       45.0         1                  1          0   \n",
              "4                    8       35.0         0                  0          0   \n",
              "\n",
              "     0    1    2    3    4  ...  Department_Finance  \\\n",
              "0  0.0  0.0  0.0  0.0  0.0  ...                 0.0   \n",
              "1  0.0  0.0  0.0  0.0  0.0  ...                 0.0   \n",
              "2 -1.0  0.0  0.0  0.0  0.0  ...                 0.0   \n",
              "3  0.0  1.0  0.0  0.0  0.0  ...                 0.0   \n",
              "4  0.0  0.0  1.0  0.0  0.0  ...                 0.0   \n",
              "\n",
              "   Department_Human Resources  Department_IT  Department_Marketing  \\\n",
              "0                         0.0            0.0                   0.0   \n",
              "1                         0.0            0.0                   1.0   \n",
              "2                         0.0            0.0                   0.0   \n",
              "3                         0.0            1.0                   0.0   \n",
              "4                         0.0            0.0                   0.0   \n",
              "\n",
              "   Department_Operations  Department_Sales  Location_Bangalore  \\\n",
              "0                    0.0               0.0                 1.0   \n",
              "1                    0.0               0.0                 0.0   \n",
              "2                    0.0               1.0                 0.0   \n",
              "3                    0.0               0.0                 0.0   \n",
              "4                    0.0               0.0                 1.0   \n",
              "\n",
              "   Location_Hyderabad  Location_Mumbai  Location_Remote  \n",
              "0                 0.0              0.0              0.0  \n",
              "1                 1.0              0.0              0.0  \n",
              "2                 0.0              1.0              0.0  \n",
              "3                 0.0              0.0              1.0  \n",
              "4                 0.0              0.0              0.0  \n",
              "\n",
              "[5 rows x 27 columns]"
            ]
          },
          "execution_count": 166,
          "metadata": {},
          "output_type": "execute_result"
        }
      ],
      "source": [
        "df.head()"
      ]
    },
    {
      "cell_type": "code",
      "execution_count": 167,
      "metadata": {
        "colab": {
          "base_uri": "https://localhost:8080/",
          "height": 474
        },
        "id": "069TbfUtopVU",
        "outputId": "719d8526-3373-455a-847d-e95d83e8f664"
      },
      "outputs": [
        {
          "data": {
            "image/png": "[encoded data removed]",
            "text/plain": [
              "<Figure size 640x480 with 1 Axes>"
            ]
          },
          "metadata": {},
          "output_type": "display_data"
        }
      ],
      "source": [
        "# Group by 'Location' and calculate the mean of 'Laid_Off'\n",
        "location_laid_off_mean = df.groupby('Promotion')['Laid Off'].mean()\n",
        "\n",
        "# Plot the data\n",
        "location_laid_off_mean.plot(kind='bar', stacked=True)\n",
        "plt.title('Effect of Promotion on Laid Off')\n",
        "plt.xlabel('Promotion')\n",
        "plt.ylabel('Proportion of Laid Off Employees')\n",
        "plt.xticks(rotation=45)\n",
        "plt.show()"
      ]
    },
    {
      "cell_type": "code",
      "execution_count": 168,
      "metadata": {
        "colab": {
          "base_uri": "https://localhost:8080/"
        },
        "id": "ggKFWZXSo07t",
        "outputId": "73f57561-f5b7-4f78-823f-d1a3181e05b3"
      },
      "outputs": [
        {
          "data": {
            "text/plain": [
              "0    136\n",
              "1     49\n",
              "Name: Laid Off, dtype: int64"
            ]
          },
          "execution_count": 168,
          "metadata": {},
          "output_type": "execute_result"
        }
      ],
      "source": [
        "# Handling Imbalanced data\n",
        "df['Laid Off'].value_counts()"
      ]
    },
    {
      "cell_type": "code",
      "execution_count": 169,
      "metadata": {
        "id": "IqkRn9FypDKC"
      },
      "outputs": [],
      "source": [
        "from sklearn.utils import resample\n",
        "# Separate majority and minority classes\n",
        "majority_class = df[df['Laid Off'] == 0]\n",
        "minority_class = df[df['Laid Off'] == 1]\n",
        "\n",
        "# Upsample the minority class\n",
        "minority_upsampled = resample(minority_class, replace=True, n_samples=len(majority_class), random_state=42)\n",
        "\n",
        "# Combine majority class with upsampled minority class\n",
        "df_upsampled = pd.concat([majority_class, minority_upsampled])\n",
        "\n",
        "# Shuffle the DataFrame\n",
        "df_upsampled = df_upsampled.sample(frac=1, random_state=42).reset_index(drop=True)"
      ]
    },
    {
      "cell_type": "code",
      "execution_count": 170,
      "metadata": {
        "id": "QLjOK-iDplZG"
      },
      "outputs": [],
      "source": [
        "df = df_upsampled"
      ]
    },
    {
      "cell_type": "code",
      "execution_count": 171,
      "metadata": {
        "colab": {
          "base_uri": "https://localhost:8080/"
        },
        "id": "4fJXC5Lkp4gB",
        "outputId": "03827baf-f531-4d58-b5be-1b80b0d892fe"
      },
      "outputs": [
        {
          "data": {
            "text/plain": [
              "0    136\n",
              "1    136\n",
              "Name: Laid Off, dtype: int64"
            ]
          },
          "execution_count": 171,
          "metadata": {},
          "output_type": "execute_result"
        }
      ],
      "source": [
        "df['Laid Off'].value_counts()"
      ]
    },
    {
      "cell_type": "code",
      "execution_count": 172,
      "metadata": {
        "colab": {
          "base_uri": "https://localhost:8080/"
        },
        "id": "x3hqnK3ZqC7Q",
        "outputId": "8d5c8c6f-edb9-4f92-9520-3cdd0502a2e2"
      },
      "outputs": [
        {
          "data": {
            "text/plain": [
              "Years of Experience            0\n",
              "Age Range                      0\n",
              "Laid Off                       0\n",
              "Severance Package              0\n",
              "Promotion                      0\n",
              "0                              0\n",
              "1                              0\n",
              "2                              0\n",
              "3                              0\n",
              "4                              0\n",
              "5                              0\n",
              "6                              0\n",
              "7                              0\n",
              "8                              0\n",
              "9                              0\n",
              "Department_Customer Service    0\n",
              "Department_Engineering         0\n",
              "Department_Finance             0\n",
              "Department_Human Resources     0\n",
              "Department_IT                  0\n",
              "Department_Marketing           0\n",
              "Department_Operations          0\n",
              "Department_Sales               0\n",
              "Location_Bangalore             0\n",
              "Location_Hyderabad             0\n",
              "Location_Mumbai                0\n",
              "Location_Remote                0\n",
              "dtype: int64"
            ]
          },
          "execution_count": 172,
          "metadata": {},
          "output_type": "execute_result"
        }
      ],
      "source": [
        "df.isnull().sum()"
      ]
    },
    {
      "cell_type": "code",
      "execution_count": 173,
      "metadata": {
        "colab": {
          "base_uri": "https://localhost:8080/"
        },
        "id": "23vLUB2NrPhY",
        "outputId": "96a4a779-189f-453e-e2fd-0d767426421d"
      },
      "outputs": [
        {
          "name": "stdout",
          "output_type": "stream",
          "text": [
            "<class 'pandas.core.frame.DataFrame'>\n",
            "RangeIndex: 272 entries, 0 to 271\n",
            "Data columns (total 27 columns):\n",
            " #   Column                       Non-Null Count  Dtype  \n",
            "---  ------                       --------------  -----  \n",
            " 0   Years of Experience          272 non-null    int32  \n",
            " 1   Age Range                    272 non-null    float64\n",
            " 2   Laid Off                     272 non-null    int64  \n",
            " 3   Severance Package            272 non-null    int64  \n",
            " 4   Promotion                    272 non-null    int64  \n",
            " 5   0                            272 non-null    float64\n",
            " 6   1                            272 non-null    float64\n",
            " 7   2                            272 non-null    float64\n",
            " 8   3                            272 non-null    float64\n",
            " 9   4                            272 non-null    float64\n",
            " 10  5                            272 non-null    float64\n",
            " 11  6                            272 non-null    float64\n",
            " 12  7                            272 non-null    float64\n",
            " 13  8                            272 non-null    float64\n",
            " 14  9                            272 non-null    float64\n",
            " 15  Department_Customer Service  272 non-null    float64\n",
            " 16  Department_Engineering       272 non-null    float64\n",
            " 17  Department_Finance           272 non-null    float64\n",
            " 18  Department_Human Resources   272 non-null    float64\n",
            " 19  Department_IT                272 non-null    float64\n",
            " 20  Department_Marketing         272 non-null    float64\n",
            " 21  Department_Operations        272 non-null    float64\n",
            " 22  Department_Sales             272 non-null    float64\n",
            " 23  Location_Bangalore           272 non-null    float64\n",
            " 24  Location_Hyderabad           272 non-null    float64\n",
            " 25  Location_Mumbai              272 non-null    float64\n",
            " 26  Location_Remote              272 non-null    float64\n",
            "dtypes: float64(23), int32(1), int64(3)\n",
            "memory usage: 56.4 KB\n"
          ]
        }
      ],
      "source": [
        "df.info()"
      ]
    },
    {
      "cell_type": "code",
      "execution_count": 174,
      "metadata": {},
      "outputs": [
        {
          "data": {
            "text/html": [
              "<div>\n",
              "<style scoped>\n",
              "    .dataframe tbody tr th:only-of-type {\n",
              "        vertical-align: middle;\n",
              "    }\n",
              "\n",
              "    .dataframe tbody tr th {\n",
              "        vertical-align: top;\n",
              "    }\n",
              "\n",
              "    .dataframe thead th {\n",
              "        text-align: right;\n",
              "    }\n",
              "</style>\n",
              "<table border=\"1\" class=\"dataframe\">\n",
              "  <thead>\n",
              "    <tr style=\"text-align: right;\">\n",
              "      <th></th>\n",
              "      <th>Years of Experience</th>\n",
              "      <th>Age Range</th>\n",
              "      <th>Laid Off</th>\n",
              "      <th>Severance Package</th>\n",
              "      <th>Promotion</th>\n",
              "      <th>0</th>\n",
              "      <th>1</th>\n",
              "      <th>2</th>\n",
              "      <th>3</th>\n",
              "      <th>4</th>\n",
              "      <th>...</th>\n",
              "      <th>Department_Finance</th>\n",
              "      <th>Department_Human Resources</th>\n",
              "      <th>Department_IT</th>\n",
              "      <th>Department_Marketing</th>\n",
              "      <th>Department_Operations</th>\n",
              "      <th>Department_Sales</th>\n",
              "      <th>Location_Bangalore</th>\n",
              "      <th>Location_Hyderabad</th>\n",
              "      <th>Location_Mumbai</th>\n",
              "      <th>Location_Remote</th>\n",
              "    </tr>\n",
              "  </thead>\n",
              "  <tbody>\n",
              "    <tr>\n",
              "      <th>0</th>\n",
              "      <td>4</td>\n",
              "      <td>25.0</td>\n",
              "      <td>0</td>\n",
              "      <td>0</td>\n",
              "      <td>0</td>\n",
              "      <td>0.0</td>\n",
              "      <td>0.0</td>\n",
              "      <td>0.0</td>\n",
              "      <td>0.0</td>\n",
              "      <td>0.0</td>\n",
              "      <td>...</td>\n",
              "      <td>0.0</td>\n",
              "      <td>0.0</td>\n",
              "      <td>0.0</td>\n",
              "      <td>0.0</td>\n",
              "      <td>0.0</td>\n",
              "      <td>1.0</td>\n",
              "      <td>0.0</td>\n",
              "      <td>0.0</td>\n",
              "      <td>1.0</td>\n",
              "      <td>0.0</td>\n",
              "    </tr>\n",
              "    <tr>\n",
              "      <th>1</th>\n",
              "      <td>10</td>\n",
              "      <td>45.0</td>\n",
              "      <td>0</td>\n",
              "      <td>0</td>\n",
              "      <td>1</td>\n",
              "      <td>0.0</td>\n",
              "      <td>0.0</td>\n",
              "      <td>0.0</td>\n",
              "      <td>-1.0</td>\n",
              "      <td>0.0</td>\n",
              "      <td>...</td>\n",
              "      <td>1.0</td>\n",
              "      <td>0.0</td>\n",
              "      <td>0.0</td>\n",
              "      <td>0.0</td>\n",
              "      <td>0.0</td>\n",
              "      <td>0.0</td>\n",
              "      <td>0.0</td>\n",
              "      <td>1.0</td>\n",
              "      <td>0.0</td>\n",
              "      <td>0.0</td>\n",
              "    </tr>\n",
              "    <tr>\n",
              "      <th>2</th>\n",
              "      <td>5</td>\n",
              "      <td>35.0</td>\n",
              "      <td>0</td>\n",
              "      <td>1</td>\n",
              "      <td>0</td>\n",
              "      <td>0.0</td>\n",
              "      <td>0.0</td>\n",
              "      <td>0.0</td>\n",
              "      <td>0.0</td>\n",
              "      <td>0.0</td>\n",
              "      <td>...</td>\n",
              "      <td>1.0</td>\n",
              "      <td>0.0</td>\n",
              "      <td>0.0</td>\n",
              "      <td>0.0</td>\n",
              "      <td>0.0</td>\n",
              "      <td>0.0</td>\n",
              "      <td>0.0</td>\n",
              "      <td>1.0</td>\n",
              "      <td>0.0</td>\n",
              "      <td>0.0</td>\n",
              "    </tr>\n",
              "    <tr>\n",
              "      <th>3</th>\n",
              "      <td>9</td>\n",
              "      <td>35.0</td>\n",
              "      <td>0</td>\n",
              "      <td>0</td>\n",
              "      <td>0</td>\n",
              "      <td>0.0</td>\n",
              "      <td>0.0</td>\n",
              "      <td>0.0</td>\n",
              "      <td>0.0</td>\n",
              "      <td>0.0</td>\n",
              "      <td>...</td>\n",
              "      <td>0.0</td>\n",
              "      <td>0.0</td>\n",
              "      <td>0.0</td>\n",
              "      <td>1.0</td>\n",
              "      <td>0.0</td>\n",
              "      <td>0.0</td>\n",
              "      <td>0.0</td>\n",
              "      <td>1.0</td>\n",
              "      <td>0.0</td>\n",
              "      <td>0.0</td>\n",
              "    </tr>\n",
              "    <tr>\n",
              "      <th>4</th>\n",
              "      <td>11</td>\n",
              "      <td>35.0</td>\n",
              "      <td>1</td>\n",
              "      <td>1</td>\n",
              "      <td>0</td>\n",
              "      <td>0.0</td>\n",
              "      <td>1.0</td>\n",
              "      <td>0.0</td>\n",
              "      <td>0.0</td>\n",
              "      <td>0.0</td>\n",
              "      <td>...</td>\n",
              "      <td>0.0</td>\n",
              "      <td>1.0</td>\n",
              "      <td>0.0</td>\n",
              "      <td>0.0</td>\n",
              "      <td>0.0</td>\n",
              "      <td>0.0</td>\n",
              "      <td>0.0</td>\n",
              "      <td>1.0</td>\n",
              "      <td>0.0</td>\n",
              "      <td>0.0</td>\n",
              "    </tr>\n",
              "  </tbody>\n",
              "</table>\n",
              "<p>5 rows × 27 columns</p>\n",
              "</div>"
            ],
            "text/plain": [
              "   Years of Experience  Age Range  Laid Off  Severance Package  Promotion  \\\n",
              "0                    4       25.0         0                  0          0   \n",
              "1                   10       45.0         0                  0          1   \n",
              "2                    5       35.0         0                  1          0   \n",
              "3                    9       35.0         0                  0          0   \n",
              "4                   11       35.0         1                  1          0   \n",
              "\n",
              "     0    1    2    3    4  ...  Department_Finance  \\\n",
              "0  0.0  0.0  0.0  0.0  0.0  ...                 0.0   \n",
              "1  0.0  0.0  0.0 -1.0  0.0  ...                 1.0   \n",
              "2  0.0  0.0  0.0  0.0  0.0  ...                 1.0   \n",
              "3  0.0  0.0  0.0  0.0  0.0  ...                 0.0   \n",
              "4  0.0  1.0  0.0  0.0  0.0  ...                 0.0   \n",
              "\n",
              "   Department_Human Resources  Department_IT  Department_Marketing  \\\n",
              "0                         0.0            0.0                   0.0   \n",
              "1                         0.0            0.0                   0.0   \n",
              "2                         0.0            0.0                   0.0   \n",
              "3                         0.0            0.0                   1.0   \n",
              "4                         1.0            0.0                   0.0   \n",
              "\n",
              "   Department_Operations  Department_Sales  Location_Bangalore  \\\n",
              "0                    0.0               1.0                 0.0   \n",
              "1                    0.0               0.0                 0.0   \n",
              "2                    0.0               0.0                 0.0   \n",
              "3                    0.0               0.0                 0.0   \n",
              "4                    0.0               0.0                 0.0   \n",
              "\n",
              "   Location_Hyderabad  Location_Mumbai  Location_Remote  \n",
              "0                 0.0              1.0              0.0  \n",
              "1                 1.0              0.0              0.0  \n",
              "2                 1.0              0.0              0.0  \n",
              "3                 1.0              0.0              0.0  \n",
              "4                 1.0              0.0              0.0  \n",
              "\n",
              "[5 rows x 27 columns]"
            ]
          },
          "execution_count": 174,
          "metadata": {},
          "output_type": "execute_result"
        }
      ],
      "source": [
        "df.head()"
      ]
    },
    {
      "cell_type": "code",
      "execution_count": 175,
      "metadata": {
        "colab": {
          "base_uri": "https://localhost:8080/"
        },
        "id": "GafmYPoeqcs9",
        "outputId": "d421e741-a8a3-4626-8503-f15734f3a697"
      },
      "outputs": [
        {
          "name": "stdout",
          "output_type": "stream",
          "text": [
            "Model: Random Forest, Accuracy: 0.9090909090909091\n",
            "Model: Logistic Regression, Accuracy: 0.8545454545454545\n",
            "Model: Support Vector Machine, Accuracy: 0.6363636363636364\n",
            "\n",
            "Best Model:\n",
            "RandomForestClassifier(random_state=42)\n",
            "Best Accuracy: 0.9090909090909091\n",
            "Classification Report:\n",
            "              precision    recall  f1-score   support\n",
            "\n",
            "           0       1.00      0.80      0.89        25\n",
            "           1       0.86      1.00      0.92        30\n",
            "\n",
            "    accuracy                           0.91        55\n",
            "   macro avg       0.93      0.90      0.91        55\n",
            "weighted avg       0.92      0.91      0.91        55\n",
            "\n"
          ]
        },
        {
          "name": "stderr",
          "output_type": "stream",
          "text": [
            "c:\\Users\\hp\\anaconda3\\Lib\\site-packages\\sklearn\\linear_model\\_logistic.py:460: ConvergenceWarning: lbfgs failed to converge (status=1):\n",
            "STOP: TOTAL NO. of ITERATIONS REACHED LIMIT.\n",
            "\n",
            "Increase the number of iterations (max_iter) or scale the data as shown in:\n",
            "    https://scikit-learn.org/stable/modules/preprocessing.html\n",
            "Please also refer to the documentation for alternative solver options:\n",
            "    https://scikit-learn.org/stable/modules/linear_model.html#logistic-regression\n",
            "  n_iter_i = _check_optimize_result(\n"
          ]
        }
      ],
      "source": [
        "\n",
        "from sklearn.model_selection import train_test_split\n",
        "from sklearn.preprocessing import LabelEncoder\n",
        "from sklearn.ensemble import RandomForestClassifier\n",
        "from sklearn.linear_model import LogisticRegression\n",
        "from sklearn.svm import SVC\n",
        "from sklearn.metrics import accuracy_score, classification_report\n",
        "\n",
        "# Load your dataset\n",
        "# Example:\n",
        "# df = pd.read_csv('your_dataset.csv')\n",
        "\n",
        "# Convert all column names to strings\n",
        "df.columns = df.columns.astype(str)\n",
        "\n",
        "# Assuming your dataset is prepared with features and the target variable 'Laid_Off'\n",
        "# Split the dataset into features (X) and target variable (y)\n",
        "X = df.drop(columns=['Laid Off'])  # Features\n",
        "y = df['Laid Off']  # Target variable\n",
        "\n",
        "# Encode categorical features if necessary\n",
        "# Example:\n",
        "# label_encoder = LabelEncoder()\n",
        "# X['categorical_feature'] = label_encoder.fit_transform(X['categorical_feature'])\n",
        "\n",
        "# Split the data into training and testing sets\n",
        "X_train, X_test, y_train, y_test = train_test_split(X, y, test_size=0.2, random_state=42)\n",
        "\n",
        "# Define a list of models to evaluate\n",
        "models = [\n",
        "    ('Random Forest', RandomForestClassifier(random_state=42)),\n",
        "    ('Logistic Regression', LogisticRegression(random_state=42)),\n",
        "    ('Support Vector Machine', SVC(random_state=42))\n",
        "]\n",
        "\n",
        "# Initialize variables to store the best model and its accuracy\n",
        "best_model = None\n",
        "best_accuracy = 0\n",
        "\n",
        "# Iterate over each model\n",
        "for model_name, model in models:\n",
        "    # Train the model\n",
        "    model.fit(X_train, y_train)\n",
        "\n",
        "    # Predict on the testing set\n",
        "    y_pred = model.predict(X_test)\n",
        "\n",
        "    # Calculate accuracy\n",
        "    accuracy = accuracy_score(y_test, y_pred)\n",
        "    print(f\"Model: {model_name}, Accuracy: {accuracy}\")\n",
        "\n",
        "    # Update the best model if the current model has higher accuracy\n",
        "    if accuracy > best_accuracy:\n",
        "        best_model = model\n",
        "        best_accuracy = accuracy\n",
        "\n",
        "# Evaluate the best model\n",
        "if best_model is not None:\n",
        "    print(\"\\nBest Model:\")\n",
        "    print(best_model)\n",
        "    print(\"Best Accuracy:\", best_accuracy)\n",
        "    print(\"Classification Report:\")\n",
        "    y_pred = best_model.predict(X_test)\n",
        "    print(classification_report(y_test, y_pred))\n",
        "else:\n",
        "    print(\"No best model found.\")\n"
      ]
    },
    {
      "cell_type": "code",
      "execution_count": 176,
      "metadata": {
        "id": "_pFtkCWAr1OJ"
      },
      "outputs": [],
      "source": [
        "import pickle\n",
        "\n",
        "# Save the best model (Random Forest) to a pickle file\n",
        "with open('best_model.pkl', 'wb') as f:\n",
        "    pickle.dump(best_model, f)"
      ]
    },
    {
      "cell_type": "code",
      "execution_count": null,
      "metadata": {
        "id": "3YwMpi3tsyny"
      },
      "outputs": [],
      "source": []
    }
  ],
  "metadata": {
    "colab": {
      "provenance": []
    },
    "kernelspec": {
      "display_name": "Python 3",
      "name": "python3"
    },
    "language_info": {
      "codemirror_mode": {
        "name": "ipython",
        "version": 3
      },
      "file_extension": ".py",
      "mimetype": "text/x-python",
      "name": "python",
      "nbconvert_exporter": "python",
      "pygments_lexer": "ipython3",
      "version": "3.11.4"
    }
  },
  "nbformat": 4,
  "nbformat_minor": 0
}
